{
 "cells": [
  {
   "cell_type": "markdown",
   "id": "d1ee461e",
   "metadata": {},
   "source": [
    "# 🧠 Clasificador de Estado de Salud con PyTorch\n",
    "\n",
    "Este proyecto utiliza una red neuronal profunda (MLP) implementada en PyTorch para clasificar el estado de salud de pacientes en tres categorías: **mala**, **regular** o **buena**, usando un conjunto de datos tabulares.\n",
    "\n",
    "---\n"
   ]
  },
  {
   "cell_type": "markdown",
   "id": "58644198",
   "metadata": {},
   "source": [
    "## Importar librerias"
   ]
  },
  {
   "cell_type": "code",
   "execution_count": 14,
   "id": "06ca4174",
   "metadata": {},
   "outputs": [
    {
     "name": "stdout",
     "output_type": "stream",
     "text": [
      "\u001b[1m\u001b[38;5;208mVersión de las librerias utilizadas:\n",
      "\u001b[1m\u001b[38;5;208m- Version torch: 2.7.1+cpu\n",
      "\u001b[1m\u001b[38;5;208m- Version pandas: 2.2.3\n",
      "\u001b[1m\u001b[38;5;208m- Version numpy: 2.2.6\n",
      "\u001b[1m\u001b[38;5;208m- Version sklearn: 2.2.3\n"
     ]
    }
   ],
   "source": [
    "# Manejo de datos\n",
    "import numpy as np\n",
    "import pandas as pd\n",
    "import random\n",
    "import os\n",
    "\n",
    "# Modelos de Deep Learning\n",
    "import torch\n",
    "import torch.nn as nn\n",
    "from torch.utils.data import Dataset, DataLoader\n",
    "\n",
    "#Preprocesamiento de datos\n",
    "from sklearn.preprocessing import StandardScaler, LabelEncoder\n",
    "from sklearn.model_selection import train_test_split\n",
    "from sklearn.metrics import accuracy_score\n",
    "\n",
    "# Gráficos\n",
    "from sklearn.metrics import confusion_matrix, classification_report, ConfusionMatrixDisplay\n",
    "import matplotlib.pyplot as plt\n",
    "import seaborn as sns\n",
    "plt.style.use('fivethirtyeight')\n",
    "plt.rcParams['lines.linewidth'] = 1.5\n",
    "plt.rcParams['font.size'] = 10\n",
    "\n",
    "# Configuración warnings (Quitar en caso de errores desconocidos)\n",
    "import warnings\n",
    "warnings.filterwarnings('ignore')\n",
    "\n",
    "from imblearn.over_sampling import SMOTE\n",
    "\n",
    "# Versión de paquetes usados\n",
    "color = '\\033[1m\\033[38;5;208m'\n",
    "print(f\"{color}Versión de las librerias utilizadas:\")\n",
    "print(f\"{color}- Version torch: {torch.__version__}\")\n",
    "print(f\"{color}- Version pandas: {pd.__version__}\")\n",
    "print(f\"{color}- Version numpy: {np.__version__}\")\n",
    "print(f\"{color}- Version sklearn: {pd.__version__}\")"
   ]
  },
  {
   "cell_type": "markdown",
   "id": "9f80d584",
   "metadata": {},
   "source": [
    "## Lectura del dataset"
   ]
  },
  {
   "cell_type": "code",
   "execution_count": 2,
   "id": "ec70fe59",
   "metadata": {},
   "outputs": [
    {
     "name": "stdout",
     "output_type": "stream",
     "text": [
      "Archivo cargado correctamente.\n"
     ]
    }
   ],
   "source": [
    "try:\n",
    "    # 1. Cargar el nuevo dataset multiclase\n",
    "    data_test = pd.read_csv('Datasets/datasetMulti.csv')\n",
    "    data = pd.read_csv('Datasets/generated_data_gan_pytorch_0_3.csv')\n",
    "    print(\"Archivo cargado correctamente.\")\n",
    "except Exception as e:\n",
    "    print(f\"Error: {e}\")"
   ]
  },
  {
   "cell_type": "code",
   "execution_count": 3,
   "id": "16a9ee69",
   "metadata": {},
   "outputs": [
    {
     "name": "stdout",
     "output_type": "stream",
     "text": [
      "Preprocesamiento listo. Nuevas columnas:\n",
      "Index(['Gender', 'AGE', 'Urea', 'Cr', 'HbA1c', 'Chol', 'TG', 'HDL', 'LDL',\n",
      "       'VLDL', 'BMI', 'CLASS'],\n",
      "      dtype='object')\n",
      "Index(['Gender', 'AGE', 'Urea', 'Cr', 'HbA1c', 'Chol', 'TG', 'HDL', 'LDL',\n",
      "       'VLDL', 'BMI', 'CLASS'],\n",
      "      dtype='object')\n"
     ]
    },
    {
     "data": {
      "text/html": [
       "<div>\n",
       "<style scoped>\n",
       "    .dataframe tbody tr th:only-of-type {\n",
       "        vertical-align: middle;\n",
       "    }\n",
       "\n",
       "    .dataframe tbody tr th {\n",
       "        vertical-align: top;\n",
       "    }\n",
       "\n",
       "    .dataframe thead th {\n",
       "        text-align: right;\n",
       "    }\n",
       "</style>\n",
       "<table border=\"1\" class=\"dataframe\">\n",
       "  <thead>\n",
       "    <tr style=\"text-align: right;\">\n",
       "      <th></th>\n",
       "      <th>Gender</th>\n",
       "      <th>AGE</th>\n",
       "      <th>Urea</th>\n",
       "      <th>Cr</th>\n",
       "      <th>HbA1c</th>\n",
       "      <th>Chol</th>\n",
       "      <th>TG</th>\n",
       "      <th>HDL</th>\n",
       "      <th>LDL</th>\n",
       "      <th>VLDL</th>\n",
       "      <th>BMI</th>\n",
       "      <th>CLASS</th>\n",
       "    </tr>\n",
       "  </thead>\n",
       "  <tbody>\n",
       "    <tr>\n",
       "      <th>0</th>\n",
       "      <td>0</td>\n",
       "      <td>50</td>\n",
       "      <td>4.7</td>\n",
       "      <td>46</td>\n",
       "      <td>4.9</td>\n",
       "      <td>4.2</td>\n",
       "      <td>0.9</td>\n",
       "      <td>2.4</td>\n",
       "      <td>1.4</td>\n",
       "      <td>0.5</td>\n",
       "      <td>24.0</td>\n",
       "      <td>0</td>\n",
       "    </tr>\n",
       "    <tr>\n",
       "      <th>1</th>\n",
       "      <td>1</td>\n",
       "      <td>26</td>\n",
       "      <td>4.5</td>\n",
       "      <td>62</td>\n",
       "      <td>4.9</td>\n",
       "      <td>3.7</td>\n",
       "      <td>1.4</td>\n",
       "      <td>1.1</td>\n",
       "      <td>2.1</td>\n",
       "      <td>0.6</td>\n",
       "      <td>23.0</td>\n",
       "      <td>0</td>\n",
       "    </tr>\n",
       "    <tr>\n",
       "      <th>2</th>\n",
       "      <td>0</td>\n",
       "      <td>50</td>\n",
       "      <td>4.7</td>\n",
       "      <td>46</td>\n",
       "      <td>4.9</td>\n",
       "      <td>4.2</td>\n",
       "      <td>0.9</td>\n",
       "      <td>2.4</td>\n",
       "      <td>1.4</td>\n",
       "      <td>0.5</td>\n",
       "      <td>24.0</td>\n",
       "      <td>0</td>\n",
       "    </tr>\n",
       "    <tr>\n",
       "      <th>3</th>\n",
       "      <td>0</td>\n",
       "      <td>50</td>\n",
       "      <td>4.7</td>\n",
       "      <td>46</td>\n",
       "      <td>4.9</td>\n",
       "      <td>4.2</td>\n",
       "      <td>0.9</td>\n",
       "      <td>2.4</td>\n",
       "      <td>1.4</td>\n",
       "      <td>0.5</td>\n",
       "      <td>24.0</td>\n",
       "      <td>0</td>\n",
       "    </tr>\n",
       "    <tr>\n",
       "      <th>4</th>\n",
       "      <td>1</td>\n",
       "      <td>33</td>\n",
       "      <td>7.1</td>\n",
       "      <td>46</td>\n",
       "      <td>4.9</td>\n",
       "      <td>4.9</td>\n",
       "      <td>1.0</td>\n",
       "      <td>0.8</td>\n",
       "      <td>2.0</td>\n",
       "      <td>0.4</td>\n",
       "      <td>21.0</td>\n",
       "      <td>0</td>\n",
       "    </tr>\n",
       "  </tbody>\n",
       "</table>\n",
       "</div>"
      ],
      "text/plain": [
       "   Gender  AGE  Urea  Cr  HbA1c  Chol   TG  HDL  LDL  VLDL   BMI  CLASS\n",
       "0       0   50   4.7  46    4.9   4.2  0.9  2.4  1.4   0.5  24.0      0\n",
       "1       1   26   4.5  62    4.9   3.7  1.4  1.1  2.1   0.6  23.0      0\n",
       "2       0   50   4.7  46    4.9   4.2  0.9  2.4  1.4   0.5  24.0      0\n",
       "3       0   50   4.7  46    4.9   4.2  0.9  2.4  1.4   0.5  24.0      0\n",
       "4       1   33   7.1  46    4.9   4.9  1.0  0.8  2.0   0.4  21.0      0"
      ]
     },
     "execution_count": 3,
     "metadata": {},
     "output_type": "execute_result"
    }
   ],
   "source": [
    "data_test = data_test.drop(columns=['ID', 'No_Pation'])\n",
    "data_test['CLASS'] = data_test['CLASS'].astype(str).str.strip()\n",
    "data_test['Gender'] = data_test['Gender'].astype(str).str.strip().str.upper()\n",
    "# Mapear valores de 'Gender' a numéricos y luego aplicar One-Hot Encoding si es necesario\n",
    "# Para 'Gender', puedes mapear 'F' a 0 y 'M' a 1.\n",
    "data_test['Gender'] = data_test['Gender'].map({'F': 0, 'M': 1})\n",
    "data['Gender'] = data['Gender'].map({'F': 0, 'M': 1})\n",
    "\n",
    "# Mapear 'CLASS' (ahora 'CLASS') a valores numéricos si no lo están ya\n",
    "# 'N'=0, 'P'=1, 'Y'=2\n",
    "class_mapping = {'N': 0, 'P': 1, 'Y': 2}\n",
    "data_test['CLASS'] = data_test['CLASS'].map(class_mapping)\n",
    "data['CLASS'] = data['CLASS'].map(class_mapping)\n",
    "\n",
    "print(\"Preprocesamiento listo. Nuevas columnas:\")\n",
    "print(data.columns)\n",
    "data.head()\n",
    "print(data_test.columns)\n",
    "data_test.head()"
   ]
  },
  {
   "cell_type": "code",
   "execution_count": 4,
   "id": "5cb9a2a1",
   "metadata": {},
   "outputs": [
    {
     "name": "stdout",
     "output_type": "stream",
     "text": [
      "Usando dispositivo: cpu\n"
     ]
    }
   ],
   "source": [
    "seed = 110425\n",
    "random.seed(seed)\n",
    "np.random.seed(seed)\n",
    "torch.manual_seed(seed)\n",
    "\n",
    "torch.backends.cudnn.deterministic = True\n",
    "torch.backends.cudnn.benchmark = False\n",
    "\n",
    "device = torch.device(\"cuda\" if torch.cuda.is_available() else \"cpu\")\n",
    "print(f\"Usando dispositivo: {device}\")"
   ]
  },
  {
   "cell_type": "code",
   "execution_count": 5,
   "id": "a76fd03d",
   "metadata": {},
   "outputs": [
    {
     "name": "stdout",
     "output_type": "stream",
     "text": [
      "--- Distribución de clases en el dataset completo (antes de SMOTE) ---\n",
      "CLASS\n",
      "1    50000\n",
      "0    50000\n",
      "2    50000\n",
      "Name: count, dtype: int64\n",
      "--------------------------------------------------\n"
     ]
    }
   ],
   "source": [
    "print(\"--- Distribución de clases en el dataset completo (antes de SMOTE) ---\")\n",
    "print(data['CLASS'].value_counts())\n",
    "print(\"-\" * 50)\n",
    "\n",
    "# 2. Separar características (x) y objetivo (y)\n",
    "X_train = data.drop(columns=[\"CLASS\"]).to_numpy()\n",
    "y_train = data[\"CLASS\"].to_numpy()\n",
    "X_test = data_test.drop(columns=[\"CLASS\"]).to_numpy()\n",
    "y_test = data_test[\"CLASS\"].to_numpy()\n",
    "\n",
    "# 3. Dividir en conjuntos de entrenamiento, validación y prueba ANTES de SMOTE\n",
    "X_train, X_val, y_train, y_val = train_test_split(X_train, y_train, test_size=0.15, random_state=42, stratify=y_train) # 15% del resto para validación\n",
    "\n",
    "# 4. Aplicar el escalado\n",
    "scaler = StandardScaler()\n",
    "X_train = scaler.fit_transform(X_train)\n",
    "X_val = scaler.transform(X_val) # Usar el mismo scaler del train\n",
    "X_test = scaler.transform(X_test) # Usar el mismo scaler del train\n"
   ]
  },
  {
   "cell_type": "code",
   "execution_count": 6,
   "id": "d356385c",
   "metadata": {},
   "outputs": [],
   "source": [
    "#Train\n",
    "X_train = torch.tensor(X_train, dtype=torch.float32)\n",
    "y_train = torch.tensor(y_train, dtype=torch.long)\n",
    "\n",
    "#Val\n",
    "X_val = torch.tensor(X_val, dtype=torch.float32)\n",
    "y_val = torch.tensor(y_val, dtype=torch.long)\n",
    "\n",
    "#Test\n",
    "X_test = torch.tensor(X_test, dtype=torch.float32)\n",
    "y_test = torch.tensor(y_test, dtype=torch.long)"
   ]
  },
  {
   "cell_type": "code",
   "execution_count": 7,
   "id": "12b2c912",
   "metadata": {},
   "outputs": [],
   "source": [
    "batchsize = 32\n",
    "class DiabetesDataset(Dataset):\n",
    "    def __init__(self, X, y):\n",
    "        self.X = X\n",
    "        self.y = y\n",
    "\n",
    "    def __len__(self):\n",
    "        return len(self.X)\n",
    "\n",
    "    def __getitem__(self, idx):\n",
    "        return self.X[idx], self.y[idx]\n",
    "\n",
    "train_data = DiabetesDataset(X_train, y_train)\n",
    "val_data = DiabetesDataset(X_val, y_val)\n",
    "test_data = DiabetesDataset(X_test, y_test)\n",
    "\n",
    "train_loader = DataLoader(train_data, batch_size=batchsize, shuffle=True)\n",
    "val_loader = DataLoader(val_data, batch_size=batchsize, shuffle=False)\n",
    "test_loader = DataLoader(test_data, batch_size=batchsize, shuffle=False)"
   ]
  },
  {
   "cell_type": "code",
   "execution_count": 10,
   "id": "5a8fd844",
   "metadata": {},
   "outputs": [
    {
     "data": {
      "text/plain": [
       "1713"
      ]
     },
     "execution_count": 10,
     "metadata": {},
     "output_type": "execute_result"
    }
   ],
   "source": [
    "len(train_data)"
   ]
  },
  {
   "cell_type": "code",
   "execution_count": 8,
   "id": "98816b1b",
   "metadata": {},
   "outputs": [],
   "source": [
    "class MLP(nn.Module):\n",
    "    def __init__(self):\n",
    "        super().__init__()\n",
    "        self.hc1 = nn.Linear(11, 256) # Ajuste automático al número de columnas\n",
    "        self.hc2 = nn.Linear(256, 128)\n",
    "        self.hc3 = nn.Linear(128, 64)\n",
    "        # 4. Ajustar la capa de salida a 3 neuronas para la clasificación multiclase\n",
    "        self.hc4 = nn.Linear(64, 3) \n",
    "        self.act = nn.LeakyReLU()\n",
    "        self.dp1 = nn.Dropout(0.4)\n",
    "        self.dp2 = nn.Dropout(0.2)\n",
    "\n",
    "    def forward(self, input):\n",
    "        l1 = self.dp1(self.act(self.hc1(input)))\n",
    "        l2 = self.dp2(self.act(self.hc2(l1)))\n",
    "        l3 = self.act(self.hc3(l2))\n",
    "        output = self.hc4(l3)\n",
    "        return output"
   ]
  },
  {
   "cell_type": "code",
   "execution_count": 9,
   "id": "8a114c85",
   "metadata": {},
   "outputs": [],
   "source": [
    "testeo = MLP()\n",
    "lr = 1e-4\n",
    "opt = torch.optim.Adam(testeo.parameters(), lr=lr, weight_decay=1e-4)\n",
    "# lr = 1e-4\n",
    "# opt = torch.optim.SGD(testeo.parameters(), lr=lr, weight_decay=1e-4)\n",
    "loss_func = nn.CrossEntropyLoss()\n"
   ]
  },
  {
   "cell_type": "code",
   "execution_count": 13,
   "id": "d0b17a15",
   "metadata": {},
   "outputs": [],
   "source": [
    "lambda_l1 = 1e-3\n",
    "def l1_penalty(model):\n",
    "    l1 = 0.0\n",
    "    for param in model.parameters():\n",
    "        if param.requires_grad and len(param.shape) > 1:\n",
    "            l1 += torch.norm(param, p=1)\n",
    "    return l1"
   ]
  },
  {
   "cell_type": "code",
   "execution_count": 10,
   "id": "9ee858f2",
   "metadata": {},
   "outputs": [
    {
     "name": "stdout",
     "output_type": "stream",
     "text": [
      "Reinicio aux en epoch 0\n",
      "Reinicio aux en epoch 1\n",
      "Reinicio aux en epoch 2\n",
      "Reinicio aux en epoch 12\n",
      "Terminando el entrenamiento en la época 22\n"
     ]
    }
   ],
   "source": [
    "#Entrenamiento\n",
    "\n",
    "n_epochs = 2000\n",
    "history = {\n",
    "    \"TL\" : [],\n",
    "    \"VL\" : []\n",
    "}\n",
    "early_stopping = {\n",
    "    \"delta\" : 1e-5,\n",
    "    \"patience\": 10\n",
    "}\n",
    "best_val_loss = float(\"inf\")\n",
    "aux = 0\n",
    "\n",
    "for i in range(n_epochs+1):\n",
    "    testeo.train()\n",
    "    epoch_loss = 0\n",
    "    for X_batch, y_batch in train_loader:  \n",
    "      output = testeo(X_batch)\n",
    "      loss = loss_func(output, y_batch)  #+ l1_penalty(testeo) *lambda_l1\n",
    "      \n",
    "      opt.zero_grad()\n",
    "      loss.backward()\n",
    "      opt.step()\n",
    "\n",
    "      epoch_loss += loss.item()\n",
    "    epoch_loss /= len(train_loader)\n",
    "    history[\"TL\"].append(epoch_loss)\n",
    "\n",
    "    testeo.eval()\n",
    "    epoch_loss = 0\n",
    "    for X_batch, y_batch in val_loader:\n",
    "      with torch.no_grad():\n",
    "        preds_val = testeo(X_batch)\n",
    "      val_loss = loss_func(preds_val, y_batch)\n",
    "\n",
    "      epoch_loss += val_loss.item()\n",
    "    epoch_loss /= len(val_loader)\n",
    "    history[\"VL\"].append(epoch_loss)\n",
    "    \n",
    "    if epoch_loss + early_stopping[\"delta\"] < best_val_loss:\n",
    "      best_val_loss = epoch_loss\n",
    "      aux = 0\n",
    "      print(f\"Reinicio aux en epoch {i}\")\n",
    "    else:\n",
    "      aux += 1\n",
    "      if aux >= early_stopping[\"patience\"]:\n",
    "        print(f\"Terminando el entrenamiento en la época {i}\")\n",
    "        break\n",
    "    "
   ]
  },
  {
   "cell_type": "code",
   "execution_count": 11,
   "id": "a609f3e9",
   "metadata": {},
   "outputs": [
    {
     "data": {
      "image/png": "[encoded data removed]",
      "text/plain": [
       "<Figure size 640x480 with 1 Axes>"
      ]
     },
     "metadata": {},
     "output_type": "display_data"
    }
   ],
   "source": [
    "\n",
    "plt.plot(history[\"TL\"], label=\"Train\")\n",
    "plt.plot(history[\"VL\"], label=\"Val\")\n",
    "plt.xlabel('Epoch')\n",
    "plt.ylabel('Loss Train')\n",
    "plt.legend()\n",
    "plt.show()"
   ]
  },
  {
   "cell_type": "code",
   "execution_count": 15,
   "id": "6220baa6",
   "metadata": {},
   "outputs": [
    {
     "name": "stdout",
     "output_type": "stream",
     "text": [
      "Training Accuracy: 1.00\n",
      "Testing Accuracy: 0.70\n",
      "              precision    recall  f1-score   support\n",
      "\n",
      "           0       0.33      0.56      0.42       103\n",
      "           1       0.11      0.42      0.18        53\n",
      "           2       0.98      0.73      0.84       844\n",
      "\n",
      "    accuracy                           0.70      1000\n",
      "   macro avg       0.48      0.57      0.48      1000\n",
      "weighted avg       0.87      0.70      0.76      1000\n",
      "\n"
     ]
    }
   ],
   "source": [
    "#Train\n",
    "with torch.no_grad():\n",
    "    output_train = testeo(X_train)\n",
    "y_hat_train = output_train.numpy()\n",
    "y_hat_train = [np.argmax(i) for i in y_hat_train]\n",
    "print(f'Training Accuracy: {accuracy_score(y_train, y_hat_train):.2f}')\n",
    "#Testeo\n",
    "with torch.no_grad():\n",
    "    output = testeo(X_test)  \n",
    "y_hat = output.numpy()\n",
    "y_hat = [np.argmax(i) for i in y_hat]\n",
    "print(f'Testing Accuracy: {accuracy_score(y_test, y_hat):.2f}')\n",
    "print(classification_report(y_test, y_hat))"
   ]
  },
  {
   "cell_type": "code",
   "execution_count": 13,
   "id": "4c85eada",
   "metadata": {},
   "outputs": [
    {
     "data": {
      "image/png": "[encoded data removed]",
      "text/plain": [
       "<Figure size 640x480 with 2 Axes>"
      ]
     },
     "metadata": {},
     "output_type": "display_data"
    }
   ],
   "source": [
    "cm =confusion_matrix(y_test, y_hat)\n",
    "cm_plot = ConfusionMatrixDisplay(confusion_matrix=cm)\n",
    "cm_plot.plot()\n",
    "plt.show()"
   ]
  }
 ],
 "metadata": {
  "kernelspec": {
   "display_name": ".venv",
   "language": "python",
   "name": "python3"
  },
  "language_info": {
   "codemirror_mode": {
    "name": "ipython",
    "version": 3
   },
   "file_extension": ".py",
   "mimetype": "text/x-python",
   "name": "python",
   "nbconvert_exporter": "python",
   "pygments_lexer": "ipython3",
   "version": "3.11.5"
  }
 },
 "nbformat": 4,
 "nbformat_minor": 5
}
