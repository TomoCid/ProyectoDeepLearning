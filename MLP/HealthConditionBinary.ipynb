{
 "cells": [
  {
   "cell_type": "markdown",
   "id": "d1ee461e",
   "metadata": {},
   "source": [
    "# 🧠 Clasificador de Estado de Salud con PyTorch\n",
    "\n",
    "Este proyecto utiliza una red neuronal profunda (MLP) implementada en PyTorch para clasificar el estado de salud de pacientes en tres categorías: **mala**, **regular** o **buena**, usando un conjunto de datos tabulares.\n",
    "\n",
    "---\n"
   ]
  },
  {
   "cell_type": "markdown",
   "id": "58644198",
   "metadata": {},
   "source": [
    "## Importar librerias"
   ]
  },
  {
   "cell_type": "code",
   "execution_count": null,
   "id": "06ca4174",
   "metadata": {},
   "outputs": [
    {
     "name": "stdout",
     "output_type": "stream",
     "text": [
      "\u001b[1m\u001b[38;5;208mVersión de las librerias utilizadas:\n",
      "\u001b[1m\u001b[38;5;208m- Version torch: 2.7.1+cpu\n",
      "\u001b[1m\u001b[38;5;208m- Version pandas: 2.2.3\n",
      "\u001b[1m\u001b[38;5;208m- Version numpy: 2.2.6\n",
      "\u001b[1m\u001b[38;5;208m- Version sklearn: 2.2.3\n"
     ]
    }
   ],
   "source": [
    "# Manejo de datos\n",
    "import numpy as np\n",
    "import pandas as pd\n",
    "import random\n",
    "import os\n",
    "\n",
    "# Modelos de Deep Learning\n",
    "import torch\n",
    "import torch.nn as nn\n",
    "from torch.utils.data import Dataset, DataLoader\n",
    "from collections import Counter\n",
    "\n",
    "#Preprocesamiento de datos\n",
    "from sklearn.preprocessing import StandardScaler, LabelEncoder\n",
    "from sklearn.model_selection import train_test_split\n",
    "from sklearn.metrics import accuracy_score\n",
    "\n",
    "# Gráficos\n",
    "from sklearn.metrics import confusion_matrix, classification_report, ConfusionMatrixDisplay\n",
    "import matplotlib.pyplot as plt\n",
    "import seaborn as sns\n",
    "plt.style.use('fivethirtyeight')\n",
    "plt.rcParams['lines.linewidth'] = 1.5\n",
    "plt.rcParams['font.size'] = 10\n",
    "\n",
    "# Configuración warnings (Quitar en caso de errores desconocidos)\n",
    "import warnings\n",
    "warnings.filterwarnings('ignore')\n",
    "\n",
    "# Versión de paquetes usados\n",
    "color = '\\033[1m\\033[38;5;208m'\n",
    "print(f\"{color}Versión de las librerias utilizadas:\")\n",
    "print(f\"{color}- Version torch: {torch.__version__}\")\n",
    "print(f\"{color}- Version pandas: {pd.__version__}\")\n",
    "print(f\"{color}- Version numpy: {np.__version__}\")\n",
    "print(f\"{color}- Version sklearn: {pd.__version__}\")"
   ]
  },
  {
   "cell_type": "markdown",
   "id": "9f80d584",
   "metadata": {},
   "source": [
    "## Lectura del dataset"
   ]
  },
  {
   "cell_type": "code",
   "execution_count": 2,
   "id": "52265819",
   "metadata": {},
   "outputs": [],
   "source": [
    "#numero total de datos a usar de los 100k de datos\n",
    "num_datos = 1001 #1k, 5k, 10k, 50k, 100k"
   ]
  },
  {
   "cell_type": "code",
   "execution_count": null,
   "id": "ec70fe59",
   "metadata": {},
   "outputs": [
    {
     "name": "stdout",
     "output_type": "stream",
     "text": [
      "Archivo cargado correctamente.\n"
     ]
    }
   ],
   "source": [
    "#Cargar Dataset\n",
    "try:\n",
    "    data = pd.read_csv(f'..\\Datasets\\dataset_original.csv')\n",
    "    print(\"Archivo cargado correctamente.\")\n",
    "except Exception as e:\n",
    "    print(f\"Error: {e}\")"
   ]
  },
  {
   "cell_type": "code",
   "execution_count": 4,
   "id": "c9466d85",
   "metadata": {},
   "outputs": [
    {
     "name": "stdout",
     "output_type": "stream",
     "text": [
      "Preprocesamiento listo. Nuevas columnas:\n",
      "Index(['age', 'hypertension', 'heart_disease', 'bmi', 'HbA1c_level',\n",
      "       'blood_glucose_level', 'diabetes', 'gender_Male', 'gender_Other',\n",
      "       'smoking_history_current', 'smoking_history_ever',\n",
      "       'smoking_history_former', 'smoking_history_never',\n",
      "       'smoking_history_notcurrent'],\n",
      "      dtype='object')\n"
     ]
    }
   ],
   "source": [
    "# Convertir variables categóricas a numéricas\n",
    "data = pd.get_dummies(data, columns=['gender', 'smoking_history'], drop_first=True)\n",
    "\n",
    "# Eliminar filas con valores nulos si los hubiera\n",
    "data.dropna(inplace=True)\n",
    "\n",
    "# Renombrar columnas para que no tengan caracteres especiales\n",
    "data.columns = data.columns.str.replace('[^A-Za-z0-9_]+', '', regex=True)\n",
    "\n",
    "print(\"Preprocesamiento listo. Nuevas columnas:\")\n",
    "print(data.columns)\n",
    "data.head()\n",
    "data_sample = data"
   ]
  },
  {
   "cell_type": "code",
   "execution_count": 5,
   "id": "5cb9a2a1",
   "metadata": {},
   "outputs": [
    {
     "name": "stdout",
     "output_type": "stream",
     "text": [
      "Usando dispositivo: cpu\n"
     ]
    }
   ],
   "source": [
    "seed = 110425\n",
    "random.seed(seed)\n",
    "np.random.seed(seed)\n",
    "torch.manual_seed(seed)\n",
    "\n",
    "torch.backends.cudnn.deterministic = True\n",
    "torch.backends.cudnn.benchmark = False\n",
    "\n",
    "device = torch.device(\"cuda\" if torch.cuda.is_available() else \"cpu\")\n",
    "print(f\"Usando dispositivo: {device}\")"
   ]
  },
  {
   "cell_type": "code",
   "execution_count": null,
   "id": "6e86095a",
   "metadata": {},
   "outputs": [
    {
     "name": "stdout",
     "output_type": "stream",
     "text": [
      "--- Distribución de clases en la muestra del 10% ---\n",
      "diabetes\n",
      "0    915\n",
      "1     85\n",
      "Name: count, dtype: int64\n",
      "--------------------------------------------------\n"
     ]
    }
   ],
   "source": [
    "#Resample manteniendo proporcion de datos original\n",
    "class_0 = data[data['diabetes'] == 0].sample(n=int(num_datos*0.915), random_state=42) \n",
    "class_1 = data[data['diabetes'] == 1].sample(n=int(num_datos*0.085), random_state=42) \n",
    "balanced_train_data = pd.concat([class_0, class_1]).sample(frac=1, random_state=42).reset_index(drop=True)\n",
    "data_sample = balanced_train_data"
   ]
  },
  {
   "cell_type": "code",
   "execution_count": null,
   "id": "a76fd03d",
   "metadata": {},
   "outputs": [
    {
     "name": "stdout",
     "output_type": "stream",
     "text": [
      "Counter({np.int64(0): 915, np.int64(1): 85})\n",
      "\n",
      "Pesos iniciales calculados (más alto para clases raras):\n",
      "[1.092896174863388, 11.764705882352942]\n",
      "\n",
      "Tensor de pesos para CrossEntropyLoss: tensor([ 1.0929, 11.7647])\n"
     ]
    }
   ],
   "source": [
    "# 1. Separar características (x) y objetivo (y) de la muestra\n",
    "x = data_sample.drop(columns=[\"diabetes\"]).to_numpy()\n",
    "y = data_sample[\"diabetes\"].to_numpy()\n",
    "\n",
    "# 2. Dividir en conjuntos de entrenamiento, validación y prueba \n",
    "X_train, X_test, y_train, y_test = train_test_split(x, y, test_size=0.20, random_state=42, stratify=y) # 20% para test\n",
    "X_train, X_val, y_train, y_val = train_test_split(X_train, y_train, test_size=0.15, random_state=42, stratify=y_train) # 15% del resto para validación\n",
    "\n",
    "# 3. Aplicar el escalado\n",
    "scaler = StandardScaler()\n",
    "X_train = scaler.fit_transform(X_train)\n",
    "X_val = scaler.transform(X_val) # Usar el mismo scaler del train\n",
    "X_test = scaler.transform(X_test) # Usar el mismo scaler del train\n"
   ]
  },
  {
   "cell_type": "code",
   "execution_count": null,
   "id": "d356385c",
   "metadata": {},
   "outputs": [],
   "source": [
    "#Aplicar Tensores\n",
    "#Train\n",
    "X_train = torch.tensor(X_train, dtype=torch.float32)\n",
    "y_train = torch.tensor(y_train, dtype=torch.long)\n",
    "\n",
    "#Val\n",
    "X_val = torch.tensor(X_val, dtype=torch.float32)\n",
    "y_val = torch.tensor(y_val, dtype=torch.long)\n",
    "\n",
    "#Test\n",
    "X_test = torch.tensor(X_test, dtype=torch.float32)\n",
    "y_test = torch.tensor(y_test, dtype=torch.long)"
   ]
  },
  {
   "cell_type": "code",
   "execution_count": null,
   "id": "12b2c912",
   "metadata": {},
   "outputs": [],
   "source": [
    "#Definir Batchs\n",
    "batchsize = 32\n",
    "class DiabetesDataset(Dataset):\n",
    "    def __init__(self, X, y):\n",
    "        self.X = X\n",
    "        self.y = y\n",
    "\n",
    "    def __len__(self):\n",
    "        return len(self.X)\n",
    "\n",
    "    def __getitem__(self, idx):\n",
    "        return self.X[idx], self.y[idx]\n",
    "\n",
    "train_data = DiabetesDataset(X_train, y_train)\n",
    "val_data = DiabetesDataset(X_val, y_val)\n",
    "test_data = DiabetesDataset(X_test, y_test)\n",
    "\n",
    "train_loader = DataLoader(train_data, batch_size=batchsize, shuffle=True)\n",
    "val_loader = DataLoader(val_data, batch_size=batchsize, shuffle=False)\n",
    "test_loader = DataLoader(test_data, batch_size=batchsize, shuffle=False)"
   ]
  },
  {
   "cell_type": "code",
   "execution_count": 11,
   "id": "98816b1b",
   "metadata": {},
   "outputs": [],
   "source": [
    "#Definir un modelo para trabajar\n",
    "\n",
    "class MLP(nn.Module):\n",
    "    def __init__(self):\n",
    "        super().__init__()\n",
    "        self.hc1 = nn.Linear(x.shape[1], 256) # Ajuste automático al número de columnas\n",
    "        self.hc2 = nn.Linear(256, 128)\n",
    "        self.hc3 = nn.Linear(128, 64)\n",
    "        self.hc4 = nn.Linear(64, 2)\n",
    "        self.act = nn.LeakyReLU()\n",
    "        self.dp1 = nn.Dropout(0.4)\n",
    "        self.dp2 = nn.Dropout(0.2)\n",
    "\n",
    "    def forward(self, input):\n",
    "        l1 = self.dp1(self.act(self.hc1(input)))\n",
    "        l2 = self.dp2(self.act(self.hc2(l1)))\n",
    "        l3 = self.act(self.hc3(l2))\n",
    "        output = self.hc4(l3)\n",
    "        return output"
   ]
  },
  {
   "cell_type": "code",
   "execution_count": null,
   "id": "8a114c85",
   "metadata": {},
   "outputs": [],
   "source": [
    "# Inicializa el Modelo, define el Learning Rate y el optimizador\n",
    "testeo = MLP()\n",
    "lr = 1e-4\n",
    "opt = torch.optim.Adam(testeo.parameters(), lr=lr, weight_decay=1e-4)\n",
    "\n",
    "#Calcula peso para las clases para posteriormente darle mas importancia las clases minoritaria\n",
    "class_counts = Counter(y)\n",
    "print(class_counts)\n",
    "total_samples = len(y)\n",
    "num_classes = len(class_counts)\n",
    "class_weights = [0.0] * num_classes\n",
    "for class_id, count in class_counts.items():\n",
    "    class_weights[class_id] = total_samples / count\n",
    "print(\"\\nPesos iniciales calculados (más alto para clases raras):\")\n",
    "print(class_weights)\n",
    "weights_tensor = torch.tensor(class_weights, dtype=torch.float)\n",
    "print(f\"\\nTensor de pesos para CrossEntropyLoss: {weights_tensor}\")\n",
    "\n",
    "#Se define loss con los weight previamente calculados\n",
    "loss_func = nn.CrossEntropyLoss(weight=weights_tensor)\n"
   ]
  },
  {
   "cell_type": "code",
   "execution_count": null,
   "id": "78d35e32",
   "metadata": {},
   "outputs": [],
   "source": [
    "# Direccion donde estan o se guardarn los pesos y el modelo\n",
    "testeo_path = f'../Guardar_modelo/MLP/Binary_original/Binary_original_{num_datos}_pytorch.pth'\n",
    "testeo_path_FULL = f'../Guardar_modelo/MLP/Binary_original/Binary_original_{num_datos}_pytorch_FULL.pth'"
   ]
  },
  {
   "cell_type": "code",
   "execution_count": null,
   "id": "2fd6e16d",
   "metadata": {},
   "outputs": [],
   "source": [
    "# Cargar Pesos\n",
    "#testeo.load_state_dict(torch.load(testeo_path))\n",
    "# Cargar Modelo\n",
    "#testeo = torch.load(testeo_path_FULL)"
   ]
  },
  {
   "cell_type": "code",
   "execution_count": null,
   "id": "9ee858f2",
   "metadata": {},
   "outputs": [
    {
     "name": "stdout",
     "output_type": "stream",
     "text": [
      "Terminando el entrenamiento en la época 44\n"
     ]
    }
   ],
   "source": [
    "#Entrenamiento\n",
    "\n",
    "n_epochs = 2000\n",
    "\n",
    "history = {\n",
    "    \"TL\" : [],\n",
    "    \"VL\" : []\n",
    "}\n",
    "\n",
    "early_stopping = {\n",
    "    \"delta\" : 1e-5,\n",
    "    \"patience\": 10\n",
    "}\n",
    "\n",
    "best_val_loss = float(\"inf\")\n",
    "aux = 0\n",
    "\n",
    "for i in range(n_epochs+1):\n",
    "    testeo.train()\n",
    "    epoch_loss = 0\n",
    "    for X_batch, y_batch in train_loader:  \n",
    "      output = testeo(X_batch)\n",
    "      loss = loss_func(output, y_batch) \n",
    "      \n",
    "      opt.zero_grad()\n",
    "      loss.backward()\n",
    "      opt.step()\n",
    "\n",
    "      epoch_loss += loss.item()\n",
    "    epoch_loss /= len(train_loader)\n",
    "    history[\"TL\"].append(epoch_loss)\n",
    "\n",
    "    testeo.eval()\n",
    "    epoch_loss = 0\n",
    "    for X_batch, y_batch in val_loader:\n",
    "      with torch.no_grad():\n",
    "        preds_val = testeo(X_batch)\n",
    "      val_loss = loss_func(preds_val, y_batch)\n",
    "\n",
    "      epoch_loss += val_loss.item()\n",
    "    epoch_loss /= len(val_loader)\n",
    "    history[\"VL\"].append(epoch_loss)\n",
    "    \n",
    "    if epoch_loss + early_stopping[\"delta\"] < best_val_loss:\n",
    "      best_val_loss = epoch_loss\n",
    "      aux = 0\n",
    "    else:\n",
    "      aux += 1\n",
    "      if aux >= early_stopping[\"patience\"]:\n",
    "        print(f\"Terminando el entrenamiento en la época {i}\")\n",
    "        break\n",
    "    "
   ]
  },
  {
   "cell_type": "code",
   "execution_count": null,
   "id": "b42cebf1",
   "metadata": {},
   "outputs": [],
   "source": [
    "#Guardar Pesos\n",
    "torch.save(testeo.state_dict(), testeo_path)\n",
    "#Guardar Modelo Completo\n",
    "torch.save(testeo, testeo_path_FULL)"
   ]
  },
  {
   "cell_type": "code",
   "execution_count": null,
   "id": "a609f3e9",
   "metadata": {},
   "outputs": [
    {
     "data": {
      "image/png": "[encoded data removed]",
      "text/plain": [
       "<Figure size 640x480 with 1 Axes>"
      ]
     },
     "metadata": {},
     "output_type": "display_data"
    }
   ],
   "source": [
    "#Grafico de loss en tre training y validacion\n",
    "plt.plot(history[\"TL\"], label=\"Train\")\n",
    "plt.plot(history[\"VL\"], label=\"Val\")\n",
    "plt.xlabel('Epoch')\n",
    "plt.ylabel('Loss Train')\n",
    "plt.legend()\n",
    "plt.show()"
   ]
  },
  {
   "cell_type": "code",
   "execution_count": null,
   "id": "6220baa6",
   "metadata": {},
   "outputs": [
    {
     "name": "stdout",
     "output_type": "stream",
     "text": [
      "Training Accuracy: 0.93\n",
      "Testing Accuracy: 0.93\n",
      "              precision    recall  f1-score   support\n",
      "\n",
      "           0       0.98      0.94      0.96       183\n",
      "           1       0.56      0.82      0.67        17\n",
      "\n",
      "    accuracy                           0.93       200\n",
      "   macro avg       0.77      0.88      0.81       200\n",
      "weighted avg       0.95      0.93      0.94       200\n",
      "\n"
     ]
    }
   ],
   "source": [
    "#calculo de accuracy\n",
    "#Train \n",
    "with torch.no_grad():\n",
    "    output_train = testeo(X_train)\n",
    "y_hat_train = output_train.numpy()\n",
    "y_hat_train = [np.argmax(i) for i in y_hat_train]\n",
    "print(f'Training Accuracy: {accuracy_score(y_train, y_hat_train):.2f}')\n",
    "#Testeo \n",
    "with torch.no_grad():\n",
    "    output = testeo(X_test)  \n",
    "y_hat = output.numpy()\n",
    "y_hat = [np.argmax(i) for i in y_hat]\n",
    "print(f'Testing Accuracy: {accuracy_score(y_test, y_hat):.2f}')\n",
    "print(classification_report(y_test, y_hat))"
   ]
  },
  {
   "cell_type": "code",
   "execution_count": null,
   "id": "4c85eada",
   "metadata": {},
   "outputs": [
    {
     "data": {
      "image/png": "[encoded data removed]",
      "text/plain": [
       "<Figure size 640x480 with 2 Axes>"
      ]
     },
     "metadata": {},
     "output_type": "display_data"
    }
   ],
   "source": [
    "cm =confusion_matrix(y_test, y_hat)\n",
    "cm_plot = ConfusionMatrixDisplay(confusion_matrix=cm)\n",
    "cm_plot.plot()\n",
    "plt.show()"
   ]
  }
 ],
 "metadata": {
  "kernelspec": {
   "display_name": ".venv",
   "language": "python",
   "name": "python3"
  },
  "language_info": {
   "codemirror_mode": {
    "name": "ipython",
    "version": 3
   },
   "file_extension": ".py",
   "mimetype": "text/x-python",
   "name": "python",
   "nbconvert_exporter": "python",
   "pygments_lexer": "ipython3",
   "version": "3.11.5"
  }
 },
 "nbformat": 4,
 "nbformat_minor": 5
}
