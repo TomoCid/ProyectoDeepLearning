{
 "cells": [
  {
   "cell_type": "markdown",
   "id": "d1ee461e",
   "metadata": {},
   "source": [
    "# 🧠 Clasificador de Estado de Salud con PyTorch\n",
    "\n",
    "Este proyecto utiliza una red neuronal profunda (MLP) implementada en PyTorch para clasificar el estado de salud de pacientes en tres categorías: **mala**, **regular** o **buena**, usando un conjunto de datos tabulares.\n",
    "\n",
    "---\n"
   ]
  },
  {
   "cell_type": "markdown",
   "id": "58644198",
   "metadata": {},
   "source": [
    "## Importar librerias"
   ]
  },
  {
   "cell_type": "code",
   "execution_count": 60,
   "id": "06ca4174",
   "metadata": {},
   "outputs": [
    {
     "name": "stdout",
     "output_type": "stream",
     "text": [
      "\u001b[1m\u001b[38;5;208mVersión de las librerias utilizadas:\n",
      "\u001b[1m\u001b[38;5;208m- Version torch: 2.7.1+cpu\n",
      "\u001b[1m\u001b[38;5;208m- Version pandas: 2.2.3\n",
      "\u001b[1m\u001b[38;5;208m- Version numpy: 2.2.6\n",
      "\u001b[1m\u001b[38;5;208m- Version sklearn: 2.2.3\n"
     ]
    }
   ],
   "source": [
    "# Manejo de datos\n",
    "import numpy as np\n",
    "import pandas as pd\n",
    "import random\n",
    "import os\n",
    "\n",
    "# Modelos de Deep Learning\n",
    "import torch\n",
    "import torch.nn as nn\n",
    "from torch.utils.data import Dataset, DataLoader\n",
    "\n",
    "#Preprocesamiento de datos\n",
    "from sklearn.preprocessing import StandardScaler, LabelEncoder\n",
    "from sklearn.model_selection import train_test_split\n",
    "from sklearn.metrics import accuracy_score\n",
    "\n",
    "# Gráficos\n",
    "from sklearn.metrics import confusion_matrix, ConfusionMatrixDisplay\n",
    "import matplotlib.pyplot as plt\n",
    "import seaborn as sns\n",
    "plt.style.use('fivethirtyeight')\n",
    "plt.rcParams['lines.linewidth'] = 1.5\n",
    "plt.rcParams['font.size'] = 10\n",
    "\n",
    "# Configuración warnings (Quitar en caso de errores desconocidos)\n",
    "import warnings\n",
    "warnings.filterwarnings('ignore')\n",
    "\n",
    "# Versión de paquetes usados\n",
    "color = '\\033[1m\\033[38;5;208m'\n",
    "print(f\"{color}Versión de las librerias utilizadas:\")\n",
    "print(f\"{color}- Version torch: {torch.__version__}\")\n",
    "print(f\"{color}- Version pandas: {pd.__version__}\")\n",
    "print(f\"{color}- Version numpy: {np.__version__}\")\n",
    "print(f\"{color}- Version sklearn: {pd.__version__}\")"
   ]
  },
  {
   "cell_type": "markdown",
   "id": "9f80d584",
   "metadata": {},
   "source": [
    "## Lectura del dataset"
   ]
  },
  {
   "cell_type": "code",
   "execution_count": 61,
   "id": "ec70fe59",
   "metadata": {},
   "outputs": [
    {
     "name": "stdout",
     "output_type": "stream",
     "text": [
      "Archivo cargado correctamente.\n"
     ]
    }
   ],
   "source": [
    "try:\n",
    "    data = pd.read_csv('Datasets\\diabetes_012_health_indicators_BRFSS2015.csv')\n",
    "    print(\"Archivo cargado correctamente.\")\n",
    "except Exception as e:\n",
    "    print(f\"Error: {e}\")"
   ]
  },
  {
   "cell_type": "code",
   "execution_count": 3,
   "id": "3e080271",
   "metadata": {},
   "outputs": [
    {
     "data": {
      "text/html": [
       "<div>\n",
       "<style scoped>\n",
       "    .dataframe tbody tr th:only-of-type {\n",
       "        vertical-align: middle;\n",
       "    }\n",
       "\n",
       "    .dataframe tbody tr th {\n",
       "        vertical-align: top;\n",
       "    }\n",
       "\n",
       "    .dataframe thead th {\n",
       "        text-align: right;\n",
       "    }\n",
       "</style>\n",
       "<table border=\"1\" class=\"dataframe\">\n",
       "  <thead>\n",
       "    <tr style=\"text-align: right;\">\n",
       "      <th></th>\n",
       "      <th>Diabetes_012</th>\n",
       "      <th>HighBP</th>\n",
       "      <th>HighChol</th>\n",
       "      <th>CholCheck</th>\n",
       "      <th>BMI</th>\n",
       "      <th>Smoker</th>\n",
       "      <th>Stroke</th>\n",
       "      <th>HeartDiseaseorAttack</th>\n",
       "      <th>PhysActivity</th>\n",
       "      <th>Fruits</th>\n",
       "      <th>...</th>\n",
       "      <th>AnyHealthcare</th>\n",
       "      <th>NoDocbcCost</th>\n",
       "      <th>GenHlth</th>\n",
       "      <th>MentHlth</th>\n",
       "      <th>PhysHlth</th>\n",
       "      <th>DiffWalk</th>\n",
       "      <th>Sex</th>\n",
       "      <th>Age</th>\n",
       "      <th>Education</th>\n",
       "      <th>Income</th>\n",
       "    </tr>\n",
       "  </thead>\n",
       "  <tbody>\n",
       "    <tr>\n",
       "      <th>0</th>\n",
       "      <td>0.0</td>\n",
       "      <td>1.0</td>\n",
       "      <td>1.0</td>\n",
       "      <td>1.0</td>\n",
       "      <td>40.0</td>\n",
       "      <td>1.0</td>\n",
       "      <td>0.0</td>\n",
       "      <td>0.0</td>\n",
       "      <td>0.0</td>\n",
       "      <td>0.0</td>\n",
       "      <td>...</td>\n",
       "      <td>1.0</td>\n",
       "      <td>0.0</td>\n",
       "      <td>5.0</td>\n",
       "      <td>18.0</td>\n",
       "      <td>15.0</td>\n",
       "      <td>1.0</td>\n",
       "      <td>0.0</td>\n",
       "      <td>9.0</td>\n",
       "      <td>4.0</td>\n",
       "      <td>3.0</td>\n",
       "    </tr>\n",
       "    <tr>\n",
       "      <th>1</th>\n",
       "      <td>0.0</td>\n",
       "      <td>0.0</td>\n",
       "      <td>0.0</td>\n",
       "      <td>0.0</td>\n",
       "      <td>25.0</td>\n",
       "      <td>1.0</td>\n",
       "      <td>0.0</td>\n",
       "      <td>0.0</td>\n",
       "      <td>1.0</td>\n",
       "      <td>0.0</td>\n",
       "      <td>...</td>\n",
       "      <td>0.0</td>\n",
       "      <td>1.0</td>\n",
       "      <td>3.0</td>\n",
       "      <td>0.0</td>\n",
       "      <td>0.0</td>\n",
       "      <td>0.0</td>\n",
       "      <td>0.0</td>\n",
       "      <td>7.0</td>\n",
       "      <td>6.0</td>\n",
       "      <td>1.0</td>\n",
       "    </tr>\n",
       "    <tr>\n",
       "      <th>2</th>\n",
       "      <td>0.0</td>\n",
       "      <td>1.0</td>\n",
       "      <td>1.0</td>\n",
       "      <td>1.0</td>\n",
       "      <td>28.0</td>\n",
       "      <td>0.0</td>\n",
       "      <td>0.0</td>\n",
       "      <td>0.0</td>\n",
       "      <td>0.0</td>\n",
       "      <td>1.0</td>\n",
       "      <td>...</td>\n",
       "      <td>1.0</td>\n",
       "      <td>1.0</td>\n",
       "      <td>5.0</td>\n",
       "      <td>30.0</td>\n",
       "      <td>30.0</td>\n",
       "      <td>1.0</td>\n",
       "      <td>0.0</td>\n",
       "      <td>9.0</td>\n",
       "      <td>4.0</td>\n",
       "      <td>8.0</td>\n",
       "    </tr>\n",
       "    <tr>\n",
       "      <th>3</th>\n",
       "      <td>0.0</td>\n",
       "      <td>1.0</td>\n",
       "      <td>0.0</td>\n",
       "      <td>1.0</td>\n",
       "      <td>27.0</td>\n",
       "      <td>0.0</td>\n",
       "      <td>0.0</td>\n",
       "      <td>0.0</td>\n",
       "      <td>1.0</td>\n",
       "      <td>1.0</td>\n",
       "      <td>...</td>\n",
       "      <td>1.0</td>\n",
       "      <td>0.0</td>\n",
       "      <td>2.0</td>\n",
       "      <td>0.0</td>\n",
       "      <td>0.0</td>\n",
       "      <td>0.0</td>\n",
       "      <td>0.0</td>\n",
       "      <td>11.0</td>\n",
       "      <td>3.0</td>\n",
       "      <td>6.0</td>\n",
       "    </tr>\n",
       "    <tr>\n",
       "      <th>4</th>\n",
       "      <td>0.0</td>\n",
       "      <td>1.0</td>\n",
       "      <td>1.0</td>\n",
       "      <td>1.0</td>\n",
       "      <td>24.0</td>\n",
       "      <td>0.0</td>\n",
       "      <td>0.0</td>\n",
       "      <td>0.0</td>\n",
       "      <td>1.0</td>\n",
       "      <td>1.0</td>\n",
       "      <td>...</td>\n",
       "      <td>1.0</td>\n",
       "      <td>0.0</td>\n",
       "      <td>2.0</td>\n",
       "      <td>3.0</td>\n",
       "      <td>0.0</td>\n",
       "      <td>0.0</td>\n",
       "      <td>0.0</td>\n",
       "      <td>11.0</td>\n",
       "      <td>5.0</td>\n",
       "      <td>4.0</td>\n",
       "    </tr>\n",
       "  </tbody>\n",
       "</table>\n",
       "<p>5 rows × 22 columns</p>\n",
       "</div>"
      ],
      "text/plain": [
       "   Diabetes_012  HighBP  HighChol  CholCheck   BMI  Smoker  Stroke  \\\n",
       "0           0.0     1.0       1.0        1.0  40.0     1.0     0.0   \n",
       "1           0.0     0.0       0.0        0.0  25.0     1.0     0.0   \n",
       "2           0.0     1.0       1.0        1.0  28.0     0.0     0.0   \n",
       "3           0.0     1.0       0.0        1.0  27.0     0.0     0.0   \n",
       "4           0.0     1.0       1.0        1.0  24.0     0.0     0.0   \n",
       "\n",
       "   HeartDiseaseorAttack  PhysActivity  Fruits  ...  AnyHealthcare  \\\n",
       "0                   0.0           0.0     0.0  ...            1.0   \n",
       "1                   0.0           1.0     0.0  ...            0.0   \n",
       "2                   0.0           0.0     1.0  ...            1.0   \n",
       "3                   0.0           1.0     1.0  ...            1.0   \n",
       "4                   0.0           1.0     1.0  ...            1.0   \n",
       "\n",
       "   NoDocbcCost  GenHlth  MentHlth  PhysHlth  DiffWalk  Sex   Age  Education  \\\n",
       "0          0.0      5.0      18.0      15.0       1.0  0.0   9.0        4.0   \n",
       "1          1.0      3.0       0.0       0.0       0.0  0.0   7.0        6.0   \n",
       "2          1.0      5.0      30.0      30.0       1.0  0.0   9.0        4.0   \n",
       "3          0.0      2.0       0.0       0.0       0.0  0.0  11.0        3.0   \n",
       "4          0.0      2.0       3.0       0.0       0.0  0.0  11.0        5.0   \n",
       "\n",
       "   Income  \n",
       "0     3.0  \n",
       "1     1.0  \n",
       "2     8.0  \n",
       "3     6.0  \n",
       "4     4.0  \n",
       "\n",
       "[5 rows x 22 columns]"
      ]
     },
     "execution_count": 3,
     "metadata": {},
     "output_type": "execute_result"
    }
   ],
   "source": [
    "data.head(5)"
   ]
  },
  {
   "cell_type": "code",
   "execution_count": 4,
   "id": "f8e3154c",
   "metadata": {},
   "outputs": [
    {
     "name": "stdout",
     "output_type": "stream",
     "text": [
      "<class 'pandas.core.frame.DataFrame'>\n",
      "RangeIndex: 253680 entries, 0 to 253679\n",
      "Data columns (total 22 columns):\n",
      " #   Column                Non-Null Count   Dtype  \n",
      "---  ------                --------------   -----  \n",
      " 0   Diabetes_012          253680 non-null  float64\n",
      " 1   HighBP                253680 non-null  float64\n",
      " 2   HighChol              253680 non-null  float64\n",
      " 3   CholCheck             253680 non-null  float64\n",
      " 4   BMI                   253680 non-null  float64\n",
      " 5   Smoker                253680 non-null  float64\n",
      " 6   Stroke                253680 non-null  float64\n",
      " 7   HeartDiseaseorAttack  253680 non-null  float64\n",
      " 8   PhysActivity          253680 non-null  float64\n",
      " 9   Fruits                253680 non-null  float64\n",
      " 10  Veggies               253680 non-null  float64\n",
      " 11  HvyAlcoholConsump     253680 non-null  float64\n",
      " 12  AnyHealthcare         253680 non-null  float64\n",
      " 13  NoDocbcCost           253680 non-null  float64\n",
      " 14  GenHlth               253680 non-null  float64\n",
      " 15  MentHlth              253680 non-null  float64\n",
      " 16  PhysHlth              253680 non-null  float64\n",
      " 17  DiffWalk              253680 non-null  float64\n",
      " 18  Sex                   253680 non-null  float64\n",
      " 19  Age                   253680 non-null  float64\n",
      " 20  Education             253680 non-null  float64\n",
      " 21  Income                253680 non-null  float64\n",
      "dtypes: float64(22)\n",
      "memory usage: 42.6 MB\n"
     ]
    }
   ],
   "source": [
    "data.info()"
   ]
  },
  {
   "cell_type": "code",
   "execution_count": 62,
   "id": "5cb9a2a1",
   "metadata": {},
   "outputs": [],
   "source": [
    "seed = 110425\n",
    "random.seed(seed)\n",
    "np.random.seed(seed)\n",
    "torch.manual_seed(seed)\n",
    "\n",
    "torch.backends.cudnn.deterministic = True\n",
    "torch.backends.cudnn.benchmark = False"
   ]
  },
  {
   "cell_type": "code",
   "execution_count": 63,
   "id": "5be67add",
   "metadata": {},
   "outputs": [],
   "source": [
    "#Resample\n",
    "class_0 = data[data['Diabetes_012'] == 0].sample(n=4631, random_state=42) \n",
    "class_1 = data[data['Diabetes_012'] == 1].sample(n=4631, random_state=42) \n",
    "class_2 = data[data['Diabetes_012'] == 2].sample(n=4631, random_state=42) \n",
    "balanced_train_data_01 = pd.concat([class_0, class_1]).sample(frac=1, random_state=42).reset_index(drop=True)\n",
    "balanced_train_data_12 = pd.concat([class_1, class_2]).sample(frac=1, random_state=42).reset_index(drop=True)\n",
    "balanced_train_data_02 = pd.concat([class_0, class_2]).sample(frac=1, random_state=42).reset_index(drop=True)\n"
   ]
  },
  {
   "cell_type": "code",
   "execution_count": 64,
   "id": "a76fd03d",
   "metadata": {},
   "outputs": [],
   "source": [
    "x_01 = balanced_train_data_01.drop(columns=[\"Diabetes_012\"]).to_numpy() # Datos de entrenamiento\n",
    "y_01 = balanced_train_data_01[\"Diabetes_012\"].to_numpy()\n",
    "scaler = StandardScaler()\n",
    "x_01 = scaler.fit_transform(x_01)\n",
    "X_train_01, X_test_01, y_train_01, y_test_01 = train_test_split(x_01, y_01, test_size=0.15, random_state=42, stratify=y_01)\n",
    "X_train_01, X_val_01, y_train_01, y_val_01 = train_test_split(X_train_01, y_train_01, test_size=0.1, random_state=42, stratify=y_train_01)"
   ]
  },
  {
   "cell_type": "code",
   "execution_count": 65,
   "id": "ddf75a6d",
   "metadata": {},
   "outputs": [],
   "source": [
    "#Formato correcto\n",
    "#Train\n",
    "X_train_01 = torch.tensor(X_train_01, dtype=torch.float32)\n",
    "y_train_01 = torch.tensor(y_train_01, dtype=torch.long)\n",
    "\n",
    "#Val\n",
    "X_val_01 = torch.tensor(X_val_01, dtype=torch.float32)\n",
    "y_val_01 = torch.tensor(y_val_01, dtype=torch.long)\n",
    "\n",
    "#Test\n",
    "X_test_01 = torch.tensor(X_test_01, dtype=torch.float32)\n",
    "y_test_01 = torch.tensor(y_test_01, dtype=torch.long)"
   ]
  },
  {
   "cell_type": "code",
   "execution_count": 66,
   "id": "37aa6cad",
   "metadata": {},
   "outputs": [],
   "source": [
    "x_12 = balanced_train_data_12.drop(columns=[\"Diabetes_012\"]).to_numpy() # Datos de entrenamiento\n",
    "y_12 = balanced_train_data_12[\"Diabetes_012\"].to_numpy()\n",
    "scaler = StandardScaler()\n",
    "x_12 = scaler.fit_transform(x_12)\n",
    "X_train_12, X_test_12, y_train_12, y_test_12 = train_test_split(x_12, y_12, test_size=0.15, random_state=42, stratify=y_12)\n",
    "X_train_12, X_val_12, y_train_12, y_val_12 = train_test_split(X_train_12, y_train_12, test_size=0.1, random_state=42, stratify=y_train_12)"
   ]
  },
  {
   "cell_type": "code",
   "execution_count": 67,
   "id": "b857d999",
   "metadata": {},
   "outputs": [],
   "source": [
    "#Formato correcto\n",
    "#Train\n",
    "X_train_12 = torch.tensor(X_train_12, dtype=torch.float32)\n",
    "y_train_12 = torch.tensor(y_train_12, dtype=torch.long)\n",
    "\n",
    "#Val\n",
    "X_val_12 = torch.tensor(X_val_12, dtype=torch.float32)\n",
    "y_val_12 = torch.tensor(y_val_12, dtype=torch.long)\n",
    "\n",
    "#Test\n",
    "X_test_12 = torch.tensor(X_test_12, dtype=torch.float32)\n",
    "y_test_12 = torch.tensor(y_test_12, dtype=torch.long)"
   ]
  },
  {
   "cell_type": "code",
   "execution_count": 68,
   "id": "4c512784",
   "metadata": {},
   "outputs": [],
   "source": [
    "x_02 = balanced_train_data_02.drop(columns=[\"Diabetes_012\"]).to_numpy() # Datos de entrenamiento\n",
    "y_02 = balanced_train_data_02[\"Diabetes_012\"].to_numpy()\n",
    "scaler = StandardScaler()\n",
    "x_02 = scaler.fit_transform(x_02)\n",
    "X_train_02, X_test_02, y_train_02, y_test_02 = train_test_split(x_02, y_02, test_size=0.15, random_state=42, stratify=y_02)\n",
    "X_train_02, X_val_02, y_train_02, y_val_02 = train_test_split(X_train_02, y_train_02, test_size=0.1, random_state=42, stratify=y_train_02)"
   ]
  },
  {
   "cell_type": "code",
   "execution_count": 69,
   "id": "d356385c",
   "metadata": {},
   "outputs": [],
   "source": [
    "#Formato correcto\n",
    "#Train\n",
    "X_train_02 = torch.tensor(X_train_02, dtype=torch.float32)\n",
    "y_train_02 = torch.tensor(y_train_02, dtype=torch.long)\n",
    "\n",
    "#Val\n",
    "X_val_02 = torch.tensor(X_val_02, dtype=torch.float32)\n",
    "y_val_02 = torch.tensor(y_val_02, dtype=torch.long)\n",
    "\n",
    "#Test\n",
    "X_test_02 = torch.tensor(X_test_02, dtype=torch.float32)\n",
    "y_test_02 = torch.tensor(y_test_02, dtype=torch.long)"
   ]
  },
  {
   "cell_type": "code",
   "execution_count": 70,
   "id": "12b2c912",
   "metadata": {},
   "outputs": [],
   "source": [
    "batchsize = 32\n",
    "class DiabetesDataset(Dataset):\n",
    "    def __init__(self, X, y):\n",
    "        self.X = X\n",
    "        self.y = y\n",
    "\n",
    "    def __len__(self):\n",
    "        return len(self.X)\n",
    "\n",
    "    def __getitem__(self, idx):\n",
    "        return self.X[idx], self.y[idx]"
   ]
  },
  {
   "cell_type": "code",
   "execution_count": 71,
   "id": "5a8fd844",
   "metadata": {},
   "outputs": [],
   "source": [
    "\n",
    "train_data_01 = DiabetesDataset(X_train_01, y_train_01)\n",
    "val_data_01 = DiabetesDataset(X_val_01, y_val_01)\n",
    "test_data_01 = DiabetesDataset(X_test_01, y_test_01)\n",
    "\n",
    "train_loader_01 = DataLoader(train_data_01, batch_size=batchsize, shuffle=True)\n",
    "val_loader_01 = DataLoader(val_data_01, batch_size=batchsize, shuffle=False)\n",
    "test_loader_01 = DataLoader(test_data_01, batch_size=batchsize, shuffle=False)"
   ]
  },
  {
   "cell_type": "code",
   "execution_count": 72,
   "id": "046a9765",
   "metadata": {},
   "outputs": [],
   "source": [
    "\n",
    "train_data_12 = DiabetesDataset(X_train_12, y_train_12)\n",
    "val_data_12 = DiabetesDataset(X_val_12, y_val_12)\n",
    "test_data_12 = DiabetesDataset(X_test_12, y_test_12)\n",
    "\n",
    "train_loader_12 = DataLoader(train_data_12, batch_size=batchsize, shuffle=True)\n",
    "val_loader_12 = DataLoader(val_data_12, batch_size=batchsize, shuffle=False)\n",
    "test_loader_12 = DataLoader(test_data_12, batch_size=batchsize, shuffle=False)"
   ]
  },
  {
   "cell_type": "code",
   "execution_count": 74,
   "id": "5f7a0d00",
   "metadata": {},
   "outputs": [],
   "source": [
    "\n",
    "train_data_02 = DiabetesDataset(X_train_02, y_train_02)\n",
    "val_data_02 = DiabetesDataset(X_val_02, y_val_02)\n",
    "test_data_02 = DiabetesDataset(X_test_02, y_test_02)\n",
    "\n",
    "train_loader_02 = DataLoader(train_data_02, batch_size=batchsize, shuffle=True)\n",
    "val_loader_02 = DataLoader(val_data_02, batch_size=batchsize, shuffle=False)\n",
    "test_loader_02 = DataLoader(test_data_02, batch_size=batchsize, shuffle=False)"
   ]
  },
  {
   "cell_type": "code",
   "execution_count": 79,
   "id": "98816b1b",
   "metadata": {},
   "outputs": [],
   "source": [
    "#Definamos un modelo para trabajar\n",
    "#Vamos a hacerlo más complejo de lo necesario\n",
    "\n",
    "class MLP(nn.Module):\n",
    "    def __init__(self):\n",
    "        super().__init__()\n",
    "        self.hc1 = nn.Linear(21, 256)\n",
    "        self.hc2 = nn.Linear(256, 128)\n",
    "        self.hc3 = nn.Linear(128, 64)\n",
    "        self.hc4 = nn.Linear(64, 3)\n",
    "        #self.hc4 = nn.Linear(64, 2)\n",
    "        #self.act = nn.ELU()\n",
    "        self.act = nn.LeakyReLU()\n",
    "        self.sigmoid = nn.Sigmoid()\n",
    "        #self.act = nn.ReLU()\n",
    "        self.dp1 = nn.Dropout(0.4)\n",
    "        self.dp2 = nn.Dropout(0.2)\n",
    "\n",
    "    def forward(self, input):\n",
    "        l1 = self.dp1(self.act(self.hc1(input)))\n",
    "        l2 = self.dp2(self.act(self.hc2(l1)))\n",
    "        #l1 = self.act(self.hc1(input))\n",
    "        #l2 = self.act(self.hc2(l1))\n",
    "        l3 = self.act(self.hc3(l2))\n",
    "        #output = self.sigmoid(self.hc4(l3))\n",
    "        output = self.hc4(l3)\n",
    "        return output"
   ]
  },
  {
   "cell_type": "code",
   "execution_count": 80,
   "id": "8a114c85",
   "metadata": {},
   "outputs": [],
   "source": [
    "testeo_01 = MLP()\n",
    "testeo_12 = MLP()\n",
    "testeo_02 = MLP()\n",
    "lr = 1e-4\n",
    "opt_01 = torch.optim.Adam(testeo_01.parameters(), lr=lr, weight_decay=1e-4)\n",
    "opt_12 = torch.optim.Adam(testeo_12.parameters(), lr=lr, weight_decay=1e-4)\n",
    "opt_02 = torch.optim.Adam(testeo_02.parameters(), lr=lr, weight_decay=1e-4)\n",
    "# lr = 1e-4\n",
    "# opt_01 = torch.optim.SGD(testeo_01.parameters(), lr=lr, weight_decay=1e-4)\n",
    "# opt_12 = torch.optim.SGD(testeo_12.parameters(), lr=lr, weight_decay=1e-4)\n",
    "# opt_02 = torch.optim.SGD(testeo_02.parameters(), lr=lr, weight_decay=1e-4)\n",
    "# lr = 1e-4\n",
    "# opt_01 = torch.optim.RMSprop(testeo_01.parameters(), lr=lr, weight_decay=1e-4)\n",
    "# opt_12 = torch.optim.RMSprop(testeo_12.parameters(), lr=lr, weight_decay=1e-4)\n",
    "# opt_02 = torch.optim.RMSprop(testeo_02.parameters(), lr=lr, weight_decay=1e-4)\n",
    "# loss_func_01 = nn.BCEWithLogitsLoss()\n",
    "# loss_func_12 = nn.BCEWithLogitsLoss()\n",
    "# loss_func_02 = nn.BCEWithLogitsLoss()\n",
    "\n",
    "# loss_func_01 = nn.BCELoss()\n",
    "# loss_func_12 = nn.BCELoss()\n",
    "# loss_func_02 = nn.BCELoss()\n",
    "\n",
    "loss_func_01 = nn.CrossEntropyLoss()\n",
    "loss_func_12 = nn.CrossEntropyLoss()\n",
    "loss_func_02 = nn.CrossEntropyLoss()\n",
    "\n",
    "#scheduler = torch.optim.lr_scheduler.ReduceLROnPlateau(opt, mode='min', factor=0.5, patience=10)\n"
   ]
  },
  {
   "cell_type": "code",
   "execution_count": 20,
   "id": "d0b17a15",
   "metadata": {},
   "outputs": [],
   "source": [
    "lambda_l1 = 1e-3\n",
    "def l1_penalty(model):\n",
    "    l1 = 0.0\n",
    "    for param in model.parameters():\n",
    "        #l1 += param.abs().sum() #si cambiaramos abs() por pow(2.0) tendriamos L2\n",
    "        if param.requires_grad and len(param.shape) > 1:\n",
    "            l1 += torch.norm(param, p=1)\n",
    "    return l1"
   ]
  },
  {
   "cell_type": "code",
   "execution_count": 81,
   "id": "9ee858f2",
   "metadata": {},
   "outputs": [
    {
     "name": "stdout",
     "output_type": "stream",
     "text": [
      "Terminando el entrenamiento en la época 16\n"
     ]
    }
   ],
   "source": [
    "#Entrenamiento\n",
    "# lr = 1e-4\n",
    "# opt = torch.optim.Adam(testeo.parameters(), lr=lr, weight_decay=1e-4)\n",
    "\n",
    "n_epochs = 1000\n",
    "history_01 = {\n",
    "    \"TL\" : [],\n",
    "    \"VL\" : []\n",
    "}\n",
    "early_stopping = {\n",
    "    \"delta\" : 1e-5,\n",
    "    \"patience\": 10\n",
    "}\n",
    "best_val_loss = float(\"inf\")\n",
    "aux = 0\n",
    "\n",
    "for i in range(n_epochs+1):\n",
    "    testeo_01.train()\n",
    "    epoch_loss = 0\n",
    "    for X_batch, y_batch in train_loader_01:  \n",
    "      output = testeo_01(X_batch)\n",
    "      loss = loss_func_01(output, y_batch)  #+ l1_penalty(testeo) *lambda_l1\n",
    "      #scheduler.step(loss)\n",
    "      \n",
    "      opt_01.zero_grad()\n",
    "      loss.backward()\n",
    "      opt_01.step()\n",
    "\n",
    "      epoch_loss += loss.item()\n",
    "    epoch_loss /= len(train_loader_01)\n",
    "    history_01[\"TL\"].append(epoch_loss)\n",
    "\n",
    "    testeo_01.eval()\n",
    "    epoch_loss = 0\n",
    "    for X_batch, y_batch in val_loader_01:\n",
    "      with torch.no_grad():\n",
    "        preds_val = testeo_01(X_batch)\n",
    "      val_loss = loss_func_01(preds_val, y_batch)\n",
    "\n",
    "      epoch_loss += val_loss.item()\n",
    "    epoch_loss /= len(val_loader_01)\n",
    "    history_01[\"VL\"].append(epoch_loss)\n",
    "    \n",
    "    if epoch_loss + early_stopping[\"delta\"] < best_val_loss:\n",
    "      best_val_loss = epoch_loss\n",
    "      aux = 0\n",
    "    else:\n",
    "      aux += 1\n",
    "      if aux >= early_stopping[\"patience\"]:\n",
    "        print(f\"Terminando el entrenamiento en la época {i}\")\n",
    "        break\n",
    "    "
   ]
  },
  {
   "cell_type": "code",
   "execution_count": 82,
   "id": "184fdd66",
   "metadata": {},
   "outputs": [
    {
     "name": "stdout",
     "output_type": "stream",
     "text": [
      "Terminando el entrenamiento en la época 30\n"
     ]
    }
   ],
   "source": [
    "#Entrenamiento\n",
    "# lr = 1e-4\n",
    "# opt = torch.optim.Adam(testeo.parameters(), lr=lr, weight_decay=1e-4)\n",
    "\n",
    "n_epochs = 1000\n",
    "history_12 = {\n",
    "    \"TL\" : [],\n",
    "    \"VL\" : []\n",
    "}\n",
    "early_stopping = {\n",
    "    \"delta\" : 1e-5,\n",
    "    \"patience\": 10\n",
    "}\n",
    "best_val_loss = float(\"inf\")\n",
    "aux = 0\n",
    "\n",
    "for i in range(n_epochs+1):\n",
    "    testeo_12.train()\n",
    "    epoch_loss = 0\n",
    "    for X_batch, y_batch in train_loader_12:  \n",
    "      output = testeo_12(X_batch)\n",
    "      loss = loss_func_12(output, y_batch)  #+ l1_penalty(testeo) *lambda_l1\n",
    "      #scheduler.step(loss)\n",
    "      \n",
    "      opt_12.zero_grad()\n",
    "      loss.backward()\n",
    "      opt_12.step()\n",
    "\n",
    "      epoch_loss += loss.item()\n",
    "    epoch_loss /= len(train_loader_12)\n",
    "    history_12[\"TL\"].append(epoch_loss)\n",
    "\n",
    "    testeo_12.eval()\n",
    "    epoch_loss = 0\n",
    "    for X_batch, y_batch in val_loader_12:\n",
    "      with torch.no_grad():\n",
    "        preds_val = testeo_12(X_batch)\n",
    "      val_loss = loss_func_12(preds_val, y_batch)\n",
    "\n",
    "      epoch_loss += val_loss.item()\n",
    "    epoch_loss /= len(val_loader_12)\n",
    "    history_12[\"VL\"].append(epoch_loss)\n",
    "    \n",
    "    if epoch_loss + early_stopping[\"delta\"] < best_val_loss:\n",
    "      best_val_loss = epoch_loss\n",
    "      aux = 0\n",
    "    else:\n",
    "      aux += 1\n",
    "      if aux >= early_stopping[\"patience\"]:\n",
    "        print(f\"Terminando el entrenamiento en la época {i}\")\n",
    "        break\n",
    "    "
   ]
  },
  {
   "cell_type": "code",
   "execution_count": 83,
   "id": "5770924d",
   "metadata": {},
   "outputs": [
    {
     "name": "stdout",
     "output_type": "stream",
     "text": [
      "Terminando el entrenamiento en la época 26\n"
     ]
    }
   ],
   "source": [
    "#Entrenamiento\n",
    "# lr = 1e-4\n",
    "# opt = torch.optim.Adam(testeo.parameters(), lr=lr, weight_decay=1e-4)\n",
    "\n",
    "n_epochs = 1000\n",
    "history_02 = {\n",
    "    \"TL\" : [],\n",
    "    \"VL\" : []\n",
    "}\n",
    "early_stopping = {\n",
    "    \"delta\" : 1e-5,\n",
    "    \"patience\": 10\n",
    "}\n",
    "best_val_loss = float(\"inf\")\n",
    "aux = 0\n",
    "\n",
    "for i in range(n_epochs+1):\n",
    "    testeo_02.train()\n",
    "    epoch_loss = 0\n",
    "    for X_batch, y_batch in train_loader_02:  \n",
    "      output = testeo_02(X_batch)\n",
    "      loss = loss_func_02(output, y_batch)  #+ l1_penalty(testeo) *lambda_l1\n",
    "      #scheduler.step(loss)\n",
    "      \n",
    "      opt_02.zero_grad()\n",
    "      loss.backward()\n",
    "      opt_02.step()\n",
    "\n",
    "      epoch_loss += loss.item()\n",
    "    epoch_loss /= len(train_loader_02)\n",
    "    history_02[\"TL\"].append(epoch_loss)\n",
    "\n",
    "    testeo_02.eval()\n",
    "    epoch_loss = 0\n",
    "    for X_batch, y_batch in val_loader_02:\n",
    "      with torch.no_grad():\n",
    "        preds_val = testeo_02(X_batch)\n",
    "      val_loss = loss_func_02(preds_val, y_batch)\n",
    "\n",
    "      epoch_loss += val_loss.item()\n",
    "    epoch_loss /= len(val_loader_02)\n",
    "    history_02[\"VL\"].append(epoch_loss)\n",
    "    \n",
    "    if epoch_loss + early_stopping[\"delta\"] < best_val_loss:\n",
    "      best_val_loss = epoch_loss\n",
    "      aux = 0\n",
    "    else:\n",
    "      aux += 1\n",
    "      if aux >= early_stopping[\"patience\"]:\n",
    "        print(f\"Terminando el entrenamiento en la época {i}\")\n",
    "        break\n",
    "    "
   ]
  },
  {
   "cell_type": "code",
   "execution_count": 84,
   "id": "a609f3e9",
   "metadata": {},
   "outputs": [
    {
     "data": {
      "image/png": "[encoded data removed]",
      "text/plain": [
       "<Figure size 640x480 with 1 Axes>"
      ]
     },
     "metadata": {},
     "output_type": "display_data"
    }
   ],
   "source": [
    "\n",
    "plt.plot(history_01[\"TL\"], label=\"Train\")\n",
    "plt.plot(history_01[\"VL\"], label=\"Val\")\n",
    "plt.xlabel('Epoch')\n",
    "plt.ylabel('Loss Train')\n",
    "plt.legend()\n",
    "plt.show()"
   ]
  },
  {
   "cell_type": "code",
   "execution_count": 85,
   "id": "de3bc5b2",
   "metadata": {},
   "outputs": [
    {
     "data": {
      "image/png": "[encoded data removed]",
      "text/plain": [
       "<Figure size 640x480 with 1 Axes>"
      ]
     },
     "metadata": {},
     "output_type": "display_data"
    }
   ],
   "source": [
    "\n",
    "plt.plot(history_12[\"TL\"], label=\"Train\")\n",
    "plt.plot(history_12[\"VL\"], label=\"Val\")\n",
    "plt.xlabel('Epoch')\n",
    "plt.ylabel('Loss Train')\n",
    "plt.legend()\n",
    "plt.show()"
   ]
  },
  {
   "cell_type": "code",
   "execution_count": 86,
   "id": "27dc2d64",
   "metadata": {},
   "outputs": [
    {
     "data": {
      "image/png": "[encoded data removed]",
      "text/plain": [
       "<Figure size 640x480 with 1 Axes>"
      ]
     },
     "metadata": {},
     "output_type": "display_data"
    }
   ],
   "source": [
    "\n",
    "plt.plot(history_02[\"TL\"], label=\"Train\")\n",
    "plt.plot(history_02[\"VL\"], label=\"Val\")\n",
    "plt.xlabel('Epoch')\n",
    "plt.ylabel('Loss Train')\n",
    "plt.legend()\n",
    "plt.show()"
   ]
  },
  {
   "cell_type": "code",
   "execution_count": 87,
   "id": "6220baa6",
   "metadata": {},
   "outputs": [
    {
     "name": "stdout",
     "output_type": "stream",
     "text": [
      "Training Accuracy: 0.70\n",
      "Testing Accuracy: 0.69\n"
     ]
    }
   ],
   "source": [
    "#Train\n",
    "with torch.no_grad():\n",
    "    output_train = testeo_01(X_train_01)\n",
    "y_hat_train = output_train.numpy()\n",
    "y_hat_train = [np.argmax(i) for i in y_hat_train]\n",
    "print(f'Training Accuracy: {accuracy_score(y_train_01, y_hat_train):.2f}')\n",
    "#Testeo\n",
    "with torch.no_grad():\n",
    "    output = testeo_01(X_test_01)  \n",
    "y_hat = output.numpy()\n",
    "y_hat = [np.argmax(i) for i in y_hat]\n",
    "print(f'Testing Accuracy: {accuracy_score(y_test_01, y_hat):.2f}')"
   ]
  },
  {
   "cell_type": "code",
   "execution_count": 88,
   "id": "b8f0c4c0",
   "metadata": {},
   "outputs": [
    {
     "data": {
      "image/png": "[encoded data removed]",
      "text/plain": [
       "<Figure size 640x480 with 2 Axes>"
      ]
     },
     "metadata": {},
     "output_type": "display_data"
    }
   ],
   "source": [
    "cm =confusion_matrix(y_test_01, y_hat)\n",
    "cm_plot = ConfusionMatrixDisplay(confusion_matrix=cm)\n",
    "cm_plot.plot()\n",
    "plt.show()"
   ]
  },
  {
   "cell_type": "code",
   "execution_count": 89,
   "id": "84c74630",
   "metadata": {},
   "outputs": [
    {
     "name": "stdout",
     "output_type": "stream",
     "text": [
      "Training Accuracy: 0.63\n",
      "Testing Accuracy: 0.59\n"
     ]
    }
   ],
   "source": [
    "#Train\n",
    "with torch.no_grad():\n",
    "    output_train = testeo_12(X_train_12)\n",
    "y_hat_train = output_train.numpy()\n",
    "y_hat_train = [np.argmax(i) for i in y_hat_train]\n",
    "print(f'Training Accuracy: {accuracy_score(y_train_12, y_hat_train):.2f}')\n",
    "#Testeo\n",
    "with torch.no_grad():\n",
    "    output = testeo_12(X_test_12)  \n",
    "y_hat = output.numpy()\n",
    "y_hat = [np.argmax(i) for i in y_hat]\n",
    "print(f'Testing Accuracy: {accuracy_score(y_test_12, y_hat):.2f}')"
   ]
  },
  {
   "cell_type": "code",
   "execution_count": 90,
   "id": "c305f82e",
   "metadata": {},
   "outputs": [
    {
     "data": {
      "image/png": "[encoded data removed]",
      "text/plain": [
       "<Figure size 640x480 with 2 Axes>"
      ]
     },
     "metadata": {},
     "output_type": "display_data"
    }
   ],
   "source": [
    "cm =confusion_matrix(y_test_12, y_hat)\n",
    "cm_plot = ConfusionMatrixDisplay(confusion_matrix=cm)\n",
    "cm_plot.plot()\n",
    "plt.show()"
   ]
  },
  {
   "cell_type": "code",
   "execution_count": 91,
   "id": "70e551c2",
   "metadata": {},
   "outputs": [
    {
     "name": "stdout",
     "output_type": "stream",
     "text": [
      "Training Accuracy: 0.76\n",
      "Testing Accuracy: 0.76\n"
     ]
    }
   ],
   "source": [
    "#Train\n",
    "with torch.no_grad():\n",
    "    output_train = testeo_02(X_train_02)\n",
    "y_hat_train = output_train.numpy()\n",
    "y_hat_train = [np.argmax(i) for i in y_hat_train]\n",
    "print(f'Training Accuracy: {accuracy_score(y_train_02, y_hat_train):.2f}')\n",
    "#Testeo\n",
    "with torch.no_grad():\n",
    "    output = testeo_02(X_test_02)  \n",
    "y_hat = output.numpy()\n",
    "y_hat = [np.argmax(i) for i in y_hat]\n",
    "print(f'Testing Accuracy: {accuracy_score(y_test_02, y_hat):.2f}')"
   ]
  },
  {
   "cell_type": "code",
   "execution_count": 92,
   "id": "4c85eada",
   "metadata": {},
   "outputs": [
    {
     "data": {
      "image/png": "[encoded data removed]",
      "text/plain": [
       "<Figure size 640x480 with 2 Axes>"
      ]
     },
     "metadata": {},
     "output_type": "display_data"
    }
   ],
   "source": [
    "cm =confusion_matrix(y_test_02, y_hat)\n",
    "cm_plot = ConfusionMatrixDisplay(confusion_matrix=cm)\n",
    "cm_plot.plot()\n",
    "plt.show()"
   ]
  }
 ],
 "metadata": {
  "kernelspec": {
   "display_name": ".venv",
   "language": "python",
   "name": "python3"
  },
  "language_info": {
   "codemirror_mode": {
    "name": "ipython",
    "version": 3
   },
   "file_extension": ".py",
   "mimetype": "text/x-python",
   "name": "python",
   "nbconvert_exporter": "python",
   "pygments_lexer": "ipython3",
   "version": "3.11.5"
  }
 },
 "nbformat": 4,
 "nbformat_minor": 5
}
