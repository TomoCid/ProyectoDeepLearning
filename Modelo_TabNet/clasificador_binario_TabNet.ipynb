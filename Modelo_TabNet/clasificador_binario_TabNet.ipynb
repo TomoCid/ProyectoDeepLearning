{
 "cells": [
  {
   "cell_type": "markdown",
   "id": "1015e056",
   "metadata": {},
   "source": [
    "Importación de librerias"
   ]
  },
  {
   "cell_type": "code",
   "execution_count": 1,
   "id": "ec117531",
   "metadata": {},
   "outputs": [],
   "source": [
    "import pandas as pd\n",
    "import numpy as np\n",
    "import os\n",
    "\n",
    "import matplotlib.pyplot as plt\n",
    "import seaborn as sns\n",
    "\n",
    "from sklearn.metrics import roc_auc_score, confusion_matrix, accuracy_score, classification_report\n",
    "from sklearn.model_selection import train_test_split\n",
    "from sklearn.preprocessing import LabelEncoder, StandardScaler\n",
    "\n",
    "import torch\n",
    "from pytorch_tabnet.tab_model import TabNetClassifier\n",
    "\n",
    "import warnings\n",
    "warnings.filterwarnings('ignore')"
   ]
  },
  {
   "cell_type": "markdown",
   "id": "054e5c68",
   "metadata": {},
   "source": [
    "Ajustamos el número de muestras (El máximo del dataset es 100.000)"
   ]
  },
  {
   "cell_type": "code",
   "execution_count": 2,
   "id": "46c01642",
   "metadata": {},
   "outputs": [],
   "source": [
    "N_Samples = 50000"
   ]
  },
  {
   "cell_type": "markdown",
   "id": "08cf9574",
   "metadata": {},
   "source": [
    "Carga del dataset"
   ]
  },
  {
   "cell_type": "code",
   "execution_count": 3,
   "id": "c0ae8f38",
   "metadata": {},
   "outputs": [],
   "source": [
    "try:\n",
    "    data = pd.read_csv(f'../Datasets/dataset_original.csv')\n",
    "except FileNotFoundError:\n",
    "    print(\"Error: No se encontró el archivo 'dataset_original.csv'.\")\n",
    "    exit()"
   ]
  },
  {
   "cell_type": "markdown",
   "id": "a1b36087",
   "metadata": {},
   "source": [
    "Codificar las features categoricas"
   ]
  },
  {
   "cell_type": "code",
   "execution_count": 4,
   "id": "2b7f0b5b",
   "metadata": {},
   "outputs": [],
   "source": [
    "target_column = 'diabetes'\n",
    "categorical_features = ['gender', 'smoking_history']\n",
    "numerical_features = [col for col in data.columns if col not in categorical_features + [target_column]]\n",
    "# Codificar las características categóricas\n",
    "label_encoders_X = {}\n",
    "for col in categorical_features:\n",
    "    le = LabelEncoder()\n",
    "    data[col] = data[col].astype(str)\n",
    "    data[col] = le.fit_transform(data[col])\n",
    "    label_encoders_X[col] = le"
   ]
  },
  {
   "cell_type": "markdown",
   "id": "2c4f56a2",
   "metadata": {},
   "source": [
    "Ajustar el número de muestras con la misma proporción entre clases"
   ]
  },
  {
   "cell_type": "code",
   "execution_count": 5,
   "id": "51b0124e",
   "metadata": {},
   "outputs": [
    {
     "name": "stdout",
     "output_type": "stream",
     "text": [
      "Cantidad de datos a considerar: 50000\n",
      "\n",
      "Proporción de clases en el nuevo dataset:\n",
      "diabetes\n",
      "0    0.915\n",
      "1    0.085\n",
      "Name: proportion, dtype: float64\n"
     ]
    }
   ],
   "source": [
    "min_class_count = data['diabetes'].value_counts().min()\n",
    "if N_Samples > len(data) or int(N_Samples * data['diabetes'].value_counts(normalize=True).min()) > min_class_count:\n",
    "     print(f\"Advertencia: El tamaño de muestra es muy grande. Se usará el dataset completo.\")\n",
    "     data = data.copy()\n",
    "else:\n",
    "    proportions = data['diabetes'].value_counts(normalize=True)\n",
    "    data = data.groupby('diabetes', group_keys=False).apply(\n",
    "        lambda x: x.sample(int(N_Samples * proportions[x.name]), random_state=42)\n",
    "    )\n",
    "\n",
    "print(f\"Cantidad de datos a considerar: {len(data)}\")\n",
    "print(\"\\nProporción de clases en el nuevo dataset:\")\n",
    "print(data['diabetes'].value_counts(normalize=True))"
   ]
  },
  {
   "cell_type": "markdown",
   "id": "398dece7",
   "metadata": {},
   "source": [
    "División conjunto de entrenamiento y test, escalado de los datos númericos:"
   ]
  },
  {
   "cell_type": "code",
   "execution_count": 6,
   "id": "1336e4aa",
   "metadata": {},
   "outputs": [],
   "source": [
    "data[target_column] = data[target_column].astype(int)\n",
    "\n",
    "X = data.drop(columns=[target_column])\n",
    "y = data[target_column]\n",
    "\n",
    "# Se usa un 80% para entrenamiento y un 20% para test\n",
    "X_train, X_test, y_train, y_test = train_test_split(\n",
    "    X, y, test_size=0.2, random_state=42, stratify=y\n",
    ")\n",
    "\n",
    "# Escalado de las características numéricas\n",
    "scaler = StandardScaler()\n",
    "X_train.loc[:, numerical_features] = scaler.fit_transform(X_train[numerical_features])\n",
    "X_test.loc[:, numerical_features] = scaler.transform(X_test[numerical_features])\n",
    "\n",
    "X_train_np = X_train.values\n",
    "y_train_np = y_train.values\n",
    "X_test_np = X_test.values\n",
    "y_test_np = y_test.values"
   ]
  },
  {
   "cell_type": "markdown",
   "id": "5025f88d",
   "metadata": {},
   "source": [
    "## Saltar esta celda en caso de querer usar el modelo guardado -->"
   ]
  },
  {
   "cell_type": "markdown",
   "id": "64a90efa",
   "metadata": {},
   "source": [
    "Preparación de parametros, inicialización y entrenamiento del modelo"
   ]
  },
  {
   "cell_type": "code",
   "execution_count": 7,
   "id": "1224661d",
   "metadata": {},
   "outputs": [
    {
     "name": "stdout",
     "output_type": "stream",
     "text": [
      "\n",
      " Iniciando Entrenamiento de TabNet: CPU\n",
      "epoch 0  | loss: 0.51578 | val_0_accuracy: 0.9366  | val_0_logloss: 0.21225 |  0:00:03s\n",
      "epoch 1  | loss: 0.18205 | val_0_accuracy: 0.9475  | val_0_logloss: 0.15567 |  0:00:06s\n",
      "epoch 2  | loss: 0.14787 | val_0_accuracy: 0.9528  | val_0_logloss: 0.13863 |  0:00:08s\n",
      "epoch 3  | loss: 0.13472 | val_0_accuracy: 0.9565  | val_0_logloss: 0.12929 |  0:00:11s\n",
      "epoch 4  | loss: 0.13026 | val_0_accuracy: 0.9587  | val_0_logloss: 0.12454 |  0:00:14s\n",
      "epoch 5  | loss: 0.12449 | val_0_accuracy: 0.959   | val_0_logloss: 0.1194  |  0:00:17s\n",
      "epoch 6  | loss: 0.12023 | val_0_accuracy: 0.9602  | val_0_logloss: 0.1181  |  0:00:20s\n",
      "epoch 7  | loss: 0.11875 | val_0_accuracy: 0.9607  | val_0_logloss: 0.11579 |  0:00:23s\n",
      "epoch 8  | loss: 0.11561 | val_0_accuracy: 0.9617  | val_0_logloss: 0.11475 |  0:00:26s\n",
      "epoch 9  | loss: 0.11382 | val_0_accuracy: 0.9605  | val_0_logloss: 0.11288 |  0:00:28s\n",
      "epoch 10 | loss: 0.11074 | val_0_accuracy: 0.964   | val_0_logloss: 0.10734 |  0:00:31s\n",
      "epoch 11 | loss: 0.10996 | val_0_accuracy: 0.964   | val_0_logloss: 0.10791 |  0:00:34s\n",
      "epoch 12 | loss: 0.10733 | val_0_accuracy: 0.9644  | val_0_logloss: 0.10556 |  0:00:37s\n",
      "epoch 13 | loss: 0.10691 | val_0_accuracy: 0.9648  | val_0_logloss: 0.105   |  0:00:40s\n",
      "epoch 14 | loss: 0.10495 | val_0_accuracy: 0.9651  | val_0_logloss: 0.10526 |  0:00:42s\n",
      "epoch 15 | loss: 0.10295 | val_0_accuracy: 0.9648  | val_0_logloss: 0.10444 |  0:00:46s\n",
      "epoch 16 | loss: 0.10387 | val_0_accuracy: 0.9668  | val_0_logloss: 0.10132 |  0:00:49s\n",
      "epoch 17 | loss: 0.10248 | val_0_accuracy: 0.9649  | val_0_logloss: 0.10419 |  0:00:52s\n",
      "epoch 18 | loss: 0.10273 | val_0_accuracy: 0.9652  | val_0_logloss: 0.10236 |  0:00:55s\n",
      "epoch 19 | loss: 0.10102 | val_0_accuracy: 0.9651  | val_0_logloss: 0.10281 |  0:00:58s\n",
      "epoch 20 | loss: 0.10004 | val_0_accuracy: 0.9655  | val_0_logloss: 0.10022 |  0:01:02s\n",
      "epoch 21 | loss: 0.09922 | val_0_accuracy: 0.9666  | val_0_logloss: 0.0989  |  0:01:05s\n",
      "epoch 22 | loss: 0.10021 | val_0_accuracy: 0.9651  | val_0_logloss: 0.10197 |  0:01:08s\n",
      "epoch 23 | loss: 0.10007 | val_0_accuracy: 0.9637  | val_0_logloss: 0.10309 |  0:01:11s\n",
      "epoch 24 | loss: 0.09866 | val_0_accuracy: 0.9663  | val_0_logloss: 0.09947 |  0:01:14s\n",
      "epoch 25 | loss: 0.09809 | val_0_accuracy: 0.9676  | val_0_logloss: 0.09835 |  0:01:17s\n",
      "epoch 26 | loss: 0.09739 | val_0_accuracy: 0.9656  | val_0_logloss: 0.1     |  0:01:21s\n",
      "epoch 27 | loss: 0.09676 | val_0_accuracy: 0.9678  | val_0_logloss: 0.09808 |  0:01:24s\n",
      "epoch 28 | loss: 0.09712 | val_0_accuracy: 0.9668  | val_0_logloss: 0.09825 |  0:01:27s\n",
      "epoch 29 | loss: 0.09674 | val_0_accuracy: 0.9682  | val_0_logloss: 0.09692 |  0:01:30s\n",
      "epoch 30 | loss: 0.09675 | val_0_accuracy: 0.9684  | val_0_logloss: 0.09671 |  0:01:33s\n",
      "epoch 31 | loss: 0.09736 | val_0_accuracy: 0.966   | val_0_logloss: 0.10031 |  0:01:37s\n",
      "epoch 32 | loss: 0.09845 | val_0_accuracy: 0.9656  | val_0_logloss: 0.09998 |  0:01:40s\n",
      "epoch 33 | loss: 0.09635 | val_0_accuracy: 0.9676  | val_0_logloss: 0.0969  |  0:01:43s\n",
      "epoch 34 | loss: 0.09616 | val_0_accuracy: 0.9664  | val_0_logloss: 0.09769 |  0:01:46s\n",
      "epoch 35 | loss: 0.09557 | val_0_accuracy: 0.9684  | val_0_logloss: 0.09613 |  0:01:49s\n",
      "epoch 36 | loss: 0.0951  | val_0_accuracy: 0.9677  | val_0_logloss: 0.09702 |  0:01:52s\n",
      "epoch 37 | loss: 0.09506 | val_0_accuracy: 0.9687  | val_0_logloss: 0.09481 |  0:01:55s\n",
      "epoch 38 | loss: 0.09422 | val_0_accuracy: 0.9681  | val_0_logloss: 0.09514 |  0:01:59s\n",
      "epoch 39 | loss: 0.09485 | val_0_accuracy: 0.9683  | val_0_logloss: 0.09624 |  0:02:02s\n",
      "epoch 40 | loss: 0.09408 | val_0_accuracy: 0.9688  | val_0_logloss: 0.09452 |  0:02:06s\n",
      "epoch 41 | loss: 0.09358 | val_0_accuracy: 0.9668  | val_0_logloss: 0.09651 |  0:02:09s\n",
      "epoch 42 | loss: 0.0926  | val_0_accuracy: 0.969   | val_0_logloss: 0.09366 |  0:02:12s\n",
      "epoch 43 | loss: 0.0928  | val_0_accuracy: 0.9674  | val_0_logloss: 0.09425 |  0:02:15s\n",
      "epoch 44 | loss: 0.09121 | val_0_accuracy: 0.9685  | val_0_logloss: 0.09457 |  0:02:18s\n",
      "epoch 45 | loss: 0.09258 | val_0_accuracy: 0.9685  | val_0_logloss: 0.0942  |  0:02:21s\n",
      "epoch 46 | loss: 0.09185 | val_0_accuracy: 0.9683  | val_0_logloss: 0.09449 |  0:02:24s\n",
      "epoch 47 | loss: 0.09292 | val_0_accuracy: 0.9672  | val_0_logloss: 0.09734 |  0:02:27s\n",
      "epoch 48 | loss: 0.09184 | val_0_accuracy: 0.9688  | val_0_logloss: 0.09427 |  0:02:29s\n",
      "epoch 49 | loss: 0.09056 | val_0_accuracy: 0.9696  | val_0_logloss: 0.09331 |  0:02:32s\n",
      "epoch 50 | loss: 0.09071 | val_0_accuracy: 0.9694  | val_0_logloss: 0.09335 |  0:02:35s\n",
      "epoch 51 | loss: 0.09008 | val_0_accuracy: 0.9687  | val_0_logloss: 0.09403 |  0:02:38s\n",
      "epoch 52 | loss: 0.09004 | val_0_accuracy: 0.9688  | val_0_logloss: 0.09254 |  0:02:41s\n",
      "epoch 53 | loss: 0.08984 | val_0_accuracy: 0.9699  | val_0_logloss: 0.09235 |  0:02:43s\n",
      "epoch 54 | loss: 0.0899  | val_0_accuracy: 0.9684  | val_0_logloss: 0.09247 |  0:02:46s\n",
      "epoch 55 | loss: 0.08963 | val_0_accuracy: 0.9694  | val_0_logloss: 0.09246 |  0:02:49s\n",
      "epoch 56 | loss: 0.08956 | val_0_accuracy: 0.9698  | val_0_logloss: 0.09236 |  0:02:52s\n",
      "epoch 57 | loss: 0.08941 | val_0_accuracy: 0.9698  | val_0_logloss: 0.09193 |  0:02:55s\n",
      "epoch 58 | loss: 0.0886  | val_0_accuracy: 0.9699  | val_0_logloss: 0.09189 |  0:02:58s\n",
      "epoch 59 | loss: 0.08905 | val_0_accuracy: 0.9692  | val_0_logloss: 0.09182 |  0:03:01s\n",
      "epoch 60 | loss: 0.08899 | val_0_accuracy: 0.9696  | val_0_logloss: 0.09172 |  0:03:04s\n",
      "epoch 61 | loss: 0.09037 | val_0_accuracy: 0.9693  | val_0_logloss: 0.09351 |  0:03:07s\n",
      "epoch 62 | loss: 0.08824 | val_0_accuracy: 0.9699  | val_0_logloss: 0.09164 |  0:03:10s\n",
      "epoch 63 | loss: 0.08862 | val_0_accuracy: 0.9697  | val_0_logloss: 0.09148 |  0:03:13s\n",
      "epoch 64 | loss: 0.08857 | val_0_accuracy: 0.9691  | val_0_logloss: 0.09327 |  0:03:16s\n",
      "epoch 65 | loss: 0.08801 | val_0_accuracy: 0.9703  | val_0_logloss: 0.09058 |  0:03:18s\n",
      "epoch 66 | loss: 0.08732 | val_0_accuracy: 0.9704  | val_0_logloss: 0.09083 |  0:03:21s\n",
      "epoch 67 | loss: 0.08806 | val_0_accuracy: 0.97    | val_0_logloss: 0.09164 |  0:03:24s\n",
      "epoch 68 | loss: 0.08815 | val_0_accuracy: 0.9705  | val_0_logloss: 0.09057 |  0:03:27s\n",
      "epoch 69 | loss: 0.08806 | val_0_accuracy: 0.9703  | val_0_logloss: 0.09075 |  0:03:30s\n",
      "epoch 70 | loss: 0.0887  | val_0_accuracy: 0.9701  | val_0_logloss: 0.09077 |  0:03:33s\n",
      "epoch 71 | loss: 0.08775 | val_0_accuracy: 0.9694  | val_0_logloss: 0.09168 |  0:03:36s\n",
      "epoch 72 | loss: 0.08799 | val_0_accuracy: 0.9701  | val_0_logloss: 0.09069 |  0:03:39s\n",
      "epoch 73 | loss: 0.08786 | val_0_accuracy: 0.9691  | val_0_logloss: 0.09187 |  0:03:41s\n",
      "epoch 74 | loss: 0.08775 | val_0_accuracy: 0.97    | val_0_logloss: 0.09075 |  0:03:44s\n",
      "epoch 75 | loss: 0.08707 | val_0_accuracy: 0.9699  | val_0_logloss: 0.09063 |  0:03:47s\n",
      "epoch 76 | loss: 0.08734 | val_0_accuracy: 0.97    | val_0_logloss: 0.09007 |  0:03:50s\n",
      "epoch 77 | loss: 0.08764 | val_0_accuracy: 0.9699  | val_0_logloss: 0.09067 |  0:03:53s\n",
      "epoch 78 | loss: 0.08651 | val_0_accuracy: 0.9702  | val_0_logloss: 0.09008 |  0:03:56s\n",
      "epoch 79 | loss: 0.08709 | val_0_accuracy: 0.9693  | val_0_logloss: 0.09025 |  0:03:59s\n",
      "epoch 80 | loss: 0.08713 | val_0_accuracy: 0.9698  | val_0_logloss: 0.09026 |  0:04:02s\n",
      "epoch 81 | loss: 0.08816 | val_0_accuracy: 0.9703  | val_0_logloss: 0.09025 |  0:04:04s\n",
      "epoch 82 | loss: 0.0872  | val_0_accuracy: 0.9697  | val_0_logloss: 0.0906  |  0:04:07s\n",
      "epoch 83 | loss: 0.08651 | val_0_accuracy: 0.9702  | val_0_logloss: 0.09007 |  0:04:10s\n",
      "epoch 84 | loss: 0.08621 | val_0_accuracy: 0.9701  | val_0_logloss: 0.09054 |  0:04:13s\n",
      "epoch 85 | loss: 0.08705 | val_0_accuracy: 0.9701  | val_0_logloss: 0.09047 |  0:04:16s\n",
      "epoch 86 | loss: 0.0872  | val_0_accuracy: 0.9699  | val_0_logloss: 0.09037 |  0:04:18s\n",
      "\n",
      "Early stopping occurred at epoch 86 with best_epoch = 76 and best_val_0_logloss = 0.09007\n"
     ]
    }
   ],
   "source": [
    "# Requisisto para TabNet: Busca los índices y dimensiones de las características categóricas\n",
    "cat_idxs = [X.columns.get_loc(col) for col in categorical_features]\n",
    "# Requisito para TabNet: Calcula cuántas categorías únicas hay en cada columna categórica\n",
    "cat_dims = [len(le.classes_) for le in label_encoders_X.values()]\n",
    "\n",
    "DEVICE = 'cuda' if torch.cuda.is_available() else 'cpu'\n",
    "weighted_loss_fn = torch.nn.CrossEntropyLoss() # Función de pérdida\n",
    "\n",
    "# Inicialización del modelo TabNetClassifier\n",
    "clf = TabNetClassifier(\n",
    "    cat_idxs=cat_idxs,\n",
    "    cat_dims=cat_dims,\n",
    "    optimizer_params=dict(lr=1e-3), # Ajuste del learning rate\n",
    "    optimizer_fn=torch.optim.Adam, # Se usa el optimizador Adam\n",
    "    verbose=1,\n",
    "    seed=42\n",
    ")\n",
    "\n",
    "# Entrenamiento del modelo TabNetClassifier\n",
    "print(f\"\\n Iniciando Entrenamiento de TabNet:{' ' + DEVICE.upper()}\")\n",
    "clf.fit(\n",
    "    X_train=X_train_np, y_train=y_train_np,\n",
    "    eval_set=[(X_test_np, y_test_np)],\n",
    "    patience=10, # Early stopping después de 10 epoch sin mejora\n",
    "    max_epochs=100,\n",
    "    eval_metric=['accuracy', 'logloss'], # Métricas de evaluación\n",
    "    loss_fn=weighted_loss_fn, # Función de pérdida\n",
    "    batch_size=256 # Número de muestras por cada paso de entrenamiento\n",
    ")"
   ]
  },
  {
   "cell_type": "markdown",
   "id": "467ee054",
   "metadata": {},
   "source": [
    "Se guarda el modelo en un .zip"
   ]
  },
  {
   "cell_type": "code",
   "execution_count": 8,
   "id": "aa9c8930",
   "metadata": {},
   "outputs": [
    {
     "name": "stdout",
     "output_type": "stream",
     "text": [
      "Successfully saved model at c:\\Users\\tcidm\\OneDrive\\Escritorio\\Material U\\DeepLearning\\ProyectoDeepLearning\\Modelo_TabNet\\../Guardar_modelo/TabNet\\Binary_TabNet_50000.zip\n"
     ]
    },
    {
     "data": {
      "text/plain": [
       "'c:\\\\Users\\\\tcidm\\\\OneDrive\\\\Escritorio\\\\Material U\\\\DeepLearning\\\\ProyectoDeepLearning\\\\Modelo_TabNet\\\\../Guardar_modelo/TabNet\\\\Binary_TabNet_50000.zip'"
      ]
     },
     "execution_count": 8,
     "metadata": {},
     "output_type": "execute_result"
    }
   ],
   "source": [
    "directorio = os.getcwd()\n",
    "carpeta = \"../Guardar_modelo/TabNet\"\n",
    "archivo_xgb = f'Binary_TabNet_{N_Samples}'\n",
    "\n",
    "ruta = os.path.join(directorio, carpeta, archivo_xgb)\n",
    "\n",
    "directorio_final_para_guardar = os.path.dirname(ruta)\n",
    "os.makedirs(directorio_final_para_guardar, exist_ok=True)\n",
    "\n",
    "clf.save_model(ruta)"
   ]
  },
  {
   "cell_type": "markdown",
   "id": "a0a30665",
   "metadata": {},
   "source": [
    "Se puede cargar el modelo descomentando las primeras líneas"
   ]
  },
  {
   "cell_type": "code",
   "execution_count": 9,
   "id": "c85ff994",
   "metadata": {},
   "outputs": [
    {
     "name": "stdout",
     "output_type": "stream",
     "text": [
      "\n",
      "--- Resultados de la Evaluación Final ---\n",
      "Precisión (Accuracy) en el conjunto de prueba: 0.9700\n",
      "\n",
      "Reporte de Clasificación:\n",
      "              precision    recall  f1-score   support\n",
      "\n",
      " No Diabetes       0.97      1.00      0.98      9150\n",
      "    Diabetes       0.99      0.65      0.79       850\n",
      "\n",
      "    accuracy                           0.97     10000\n",
      "   macro avg       0.98      0.83      0.89     10000\n",
      "weighted avg       0.97      0.97      0.97     10000\n",
      "\n",
      "\n",
      "Matriz de Confusión:\n"
     ]
    },
    {
     "data": {
      "image/png": "[encoded data removed]",
      "text/plain": [
       "<Figure size 640x480 with 2 Axes>"
      ]
     },
     "metadata": {},
     "output_type": "display_data"
    },
    {
     "name": "stdout",
     "output_type": "stream",
     "text": [
      "\n",
      "Curva de Pérdida del Entrenamiento:\n"
     ]
    },
    {
     "data": {
      "image/png": "[encoded data removed]",
      "text/plain": [
       "<Figure size 1000x600 with 1 Axes>"
      ]
     },
     "metadata": {},
     "output_type": "display_data"
    }
   ],
   "source": [
    "#Carga del modelo guardado\n",
    "#preTrained = TabNetClassifier()\n",
    "#preTrained.load_model(ruta)\n",
    "\n",
    "y_pred = clf.predict(X_test_np) #Cambiar cfl por preTrained si se usa el modelo guardado\n",
    "test_accuracy = accuracy_score(y_test_np, y_pred)\n",
    "\n",
    "print(\"\\n--- Resultados de la Evaluación Final ---\")\n",
    "print(f\"Precisión (Accuracy) en el conjunto de prueba: {test_accuracy:.4f}\")\n",
    "\n",
    "print(\"\\nReporte de Clasificación:\")\n",
    "print(classification_report(y_test_np, y_pred, target_names=['No Diabetes', 'Diabetes']))\n",
    "\n",
    "print(\"\\nMatriz de Confusión:\")\n",
    "cm = confusion_matrix(y_test_np, y_pred)\n",
    "sns.heatmap(cm, annot=True, fmt='d', cmap='Blues', xticklabels=['No Diabetes', 'Diabetes'], yticklabels=['No Diabetes', 'Diabetes'])\n",
    "plt.xlabel('Prediction Label')\n",
    "plt.ylabel('True Label')\n",
    "plt.title('Confusion Matrix')\n",
    "plt.show()\n",
    "\n",
    "print(\"\\nCurva de Pérdida del Entrenamiento:\")\n",
    "train_loss = clf.history['loss']\n",
    "val_loss = clf.history['val_0_logloss']\n",
    "plt.figure(figsize=(10, 6))\n",
    "plt.plot(train_loss, label='Train Loss (Logloss)')\n",
    "plt.plot(val_loss, label='Validation Loss (Logloss)')\n",
    "plt.title('Curva de Loss del Entrenamiento')\n",
    "plt.xlabel('Epochs')\n",
    "plt.ylabel('Loss train')\n",
    "plt.legend()\n",
    "plt.grid(True)\n",
    "plt.show()"
   ]
  }
 ],
 "metadata": {
  "kernelspec": {
   "display_name": "Python 3",
   "language": "python",
   "name": "python3"
  },
  "language_info": {
   "codemirror_mode": {
    "name": "ipython",
    "version": 3
   },
   "file_extension": ".py",
   "mimetype": "text/x-python",
   "name": "python",
   "nbconvert_exporter": "python",
   "pygments_lexer": "ipython3",
   "version": "3.10.0"
  }
 },
 "nbformat": 4,
 "nbformat_minor": 5
}
