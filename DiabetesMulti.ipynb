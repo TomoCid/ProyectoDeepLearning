{
 "cells": [
  {
   "cell_type": "markdown",
   "id": "d1ee461e",
   "metadata": {},
   "source": [
    "# 🧠 Clasificador de Estado de Salud con PyTorch\n",
    "\n",
    "Este proyecto utiliza una red neuronal profunda (MLP) implementada en PyTorch para clasificar el estado de salud de pacientes en tres categorías: **mala**, **regular** o **buena**, usando un conjunto de datos tabulares.\n",
    "\n",
    "---\n"
   ]
  },
  {
   "cell_type": "markdown",
   "id": "58644198",
   "metadata": {},
   "source": [
    "## Importar librerias"
   ]
  },
  {
   "cell_type": "code",
   "execution_count": 19,
   "id": "06ca4174",
   "metadata": {},
   "outputs": [
    {
     "name": "stdout",
     "output_type": "stream",
     "text": [
      "\u001b[1m\u001b[38;5;208mVersión de las librerias utilizadas:\n",
      "\u001b[1m\u001b[38;5;208m- Version torch: 1.13.1+cpu\n",
      "\u001b[1m\u001b[38;5;208m- Version pandas: 2.2.3\n",
      "\u001b[1m\u001b[38;5;208m- Version numpy: 1.26.4\n",
      "\u001b[1m\u001b[38;5;208m- Version sklearn: 2.2.3\n"
     ]
    }
   ],
   "source": [
    "# Manejo de datos\n",
    "import numpy as np\n",
    "import pandas as pd\n",
    "import random\n",
    "import os\n",
    "\n",
    "# Modelos de Deep Learning\n",
    "import torch\n",
    "import torch.nn as nn\n",
    "from torch.utils.data import Dataset, DataLoader\n",
    "\n",
    "#Preprocesamiento de datos\n",
    "from sklearn.preprocessing import StandardScaler, LabelEncoder\n",
    "from sklearn.model_selection import train_test_split\n",
    "from sklearn.metrics import accuracy_score\n",
    "\n",
    "# Gráficos\n",
    "from sklearn.metrics import confusion_matrix, classification_report, ConfusionMatrixDisplay\n",
    "import matplotlib.pyplot as plt\n",
    "import seaborn as sns\n",
    "plt.style.use('fivethirtyeight')\n",
    "plt.rcParams['lines.linewidth'] = 1.5\n",
    "plt.rcParams['font.size'] = 10\n",
    "\n",
    "# Configuración warnings (Quitar en caso de errores desconocidos)\n",
    "import warnings\n",
    "warnings.filterwarnings('ignore')\n",
    "\n",
    "from imblearn.over_sampling import SMOTE\n",
    "\n",
    "# Versión de paquetes usados\n",
    "color = '\\033[1m\\033[38;5;208m'\n",
    "print(f\"{color}Versión de las librerias utilizadas:\")\n",
    "print(f\"{color}- Version torch: {torch.__version__}\")\n",
    "print(f\"{color}- Version pandas: {pd.__version__}\")\n",
    "print(f\"{color}- Version numpy: {np.__version__}\")\n",
    "print(f\"{color}- Version sklearn: {pd.__version__}\")"
   ]
  },
  {
   "cell_type": "markdown",
   "id": "9f80d584",
   "metadata": {},
   "source": [
    "## Lectura del dataset"
   ]
  },
  {
   "cell_type": "code",
   "execution_count": 2,
   "id": "ec70fe59",
   "metadata": {},
   "outputs": [
    {
     "name": "stdout",
     "output_type": "stream",
     "text": [
      "Archivo cargado correctamente.\n"
     ]
    }
   ],
   "source": [
    "try:\n",
    "    # 1. Cargar el nuevo dataset multiclase\n",
    "    data = pd.read_csv('Datasets/datasetMulti.csv')\n",
    "    print(\"Archivo cargado correctamente.\")\n",
    "except Exception as e:\n",
    "    print(f\"Error: {e}\")"
   ]
  },
  {
   "cell_type": "code",
   "execution_count": 3,
   "id": "3e080271",
   "metadata": {},
   "outputs": [
    {
     "data": {
      "text/html": [
       "<div>\n",
       "<style scoped>\n",
       "    .dataframe tbody tr th:only-of-type {\n",
       "        vertical-align: middle;\n",
       "    }\n",
       "\n",
       "    .dataframe tbody tr th {\n",
       "        vertical-align: top;\n",
       "    }\n",
       "\n",
       "    .dataframe thead th {\n",
       "        text-align: right;\n",
       "    }\n",
       "</style>\n",
       "<table border=\"1\" class=\"dataframe\">\n",
       "  <thead>\n",
       "    <tr style=\"text-align: right;\">\n",
       "      <th></th>\n",
       "      <th>ID</th>\n",
       "      <th>No_Pation</th>\n",
       "      <th>Gender</th>\n",
       "      <th>AGE</th>\n",
       "      <th>Urea</th>\n",
       "      <th>Cr</th>\n",
       "      <th>HbA1c</th>\n",
       "      <th>Chol</th>\n",
       "      <th>TG</th>\n",
       "      <th>HDL</th>\n",
       "      <th>LDL</th>\n",
       "      <th>VLDL</th>\n",
       "      <th>BMI</th>\n",
       "      <th>CLASS</th>\n",
       "    </tr>\n",
       "  </thead>\n",
       "  <tbody>\n",
       "    <tr>\n",
       "      <th>0</th>\n",
       "      <td>502</td>\n",
       "      <td>17975</td>\n",
       "      <td>F</td>\n",
       "      <td>50</td>\n",
       "      <td>4.7</td>\n",
       "      <td>46</td>\n",
       "      <td>4.9</td>\n",
       "      <td>4.2</td>\n",
       "      <td>0.9</td>\n",
       "      <td>2.4</td>\n",
       "      <td>1.4</td>\n",
       "      <td>0.5</td>\n",
       "      <td>24.0</td>\n",
       "      <td>N</td>\n",
       "    </tr>\n",
       "    <tr>\n",
       "      <th>1</th>\n",
       "      <td>735</td>\n",
       "      <td>34221</td>\n",
       "      <td>M</td>\n",
       "      <td>26</td>\n",
       "      <td>4.5</td>\n",
       "      <td>62</td>\n",
       "      <td>4.9</td>\n",
       "      <td>3.7</td>\n",
       "      <td>1.4</td>\n",
       "      <td>1.1</td>\n",
       "      <td>2.1</td>\n",
       "      <td>0.6</td>\n",
       "      <td>23.0</td>\n",
       "      <td>N</td>\n",
       "    </tr>\n",
       "    <tr>\n",
       "      <th>2</th>\n",
       "      <td>420</td>\n",
       "      <td>47975</td>\n",
       "      <td>F</td>\n",
       "      <td>50</td>\n",
       "      <td>4.7</td>\n",
       "      <td>46</td>\n",
       "      <td>4.9</td>\n",
       "      <td>4.2</td>\n",
       "      <td>0.9</td>\n",
       "      <td>2.4</td>\n",
       "      <td>1.4</td>\n",
       "      <td>0.5</td>\n",
       "      <td>24.0</td>\n",
       "      <td>N</td>\n",
       "    </tr>\n",
       "    <tr>\n",
       "      <th>3</th>\n",
       "      <td>680</td>\n",
       "      <td>87656</td>\n",
       "      <td>F</td>\n",
       "      <td>50</td>\n",
       "      <td>4.7</td>\n",
       "      <td>46</td>\n",
       "      <td>4.9</td>\n",
       "      <td>4.2</td>\n",
       "      <td>0.9</td>\n",
       "      <td>2.4</td>\n",
       "      <td>1.4</td>\n",
       "      <td>0.5</td>\n",
       "      <td>24.0</td>\n",
       "      <td>N</td>\n",
       "    </tr>\n",
       "    <tr>\n",
       "      <th>4</th>\n",
       "      <td>504</td>\n",
       "      <td>34223</td>\n",
       "      <td>M</td>\n",
       "      <td>33</td>\n",
       "      <td>7.1</td>\n",
       "      <td>46</td>\n",
       "      <td>4.9</td>\n",
       "      <td>4.9</td>\n",
       "      <td>1.0</td>\n",
       "      <td>0.8</td>\n",
       "      <td>2.0</td>\n",
       "      <td>0.4</td>\n",
       "      <td>21.0</td>\n",
       "      <td>N</td>\n",
       "    </tr>\n",
       "  </tbody>\n",
       "</table>\n",
       "</div>"
      ],
      "text/plain": [
       "    ID  No_Pation Gender  AGE  Urea  Cr  HbA1c  Chol   TG  HDL  LDL  VLDL  \\\n",
       "0  502      17975      F   50   4.7  46    4.9   4.2  0.9  2.4  1.4   0.5   \n",
       "1  735      34221      M   26   4.5  62    4.9   3.7  1.4  1.1  2.1   0.6   \n",
       "2  420      47975      F   50   4.7  46    4.9   4.2  0.9  2.4  1.4   0.5   \n",
       "3  680      87656      F   50   4.7  46    4.9   4.2  0.9  2.4  1.4   0.5   \n",
       "4  504      34223      M   33   7.1  46    4.9   4.9  1.0  0.8  2.0   0.4   \n",
       "\n",
       "    BMI CLASS  \n",
       "0  24.0     N  \n",
       "1  23.0     N  \n",
       "2  24.0     N  \n",
       "3  24.0     N  \n",
       "4  21.0     N  "
      ]
     },
     "execution_count": 3,
     "metadata": {},
     "output_type": "execute_result"
    }
   ],
   "source": [
    "data.head(5)"
   ]
  },
  {
   "cell_type": "code",
   "execution_count": 4,
   "id": "c9466d85",
   "metadata": {},
   "outputs": [
    {
     "name": "stdout",
     "output_type": "stream",
     "text": [
      "Preprocesamiento listo. Nuevas columnas:\n",
      "Index(['AGE', 'Urea', 'Cr', 'HbA1c', 'Chol', 'TG', 'HDL', 'LDL', 'VLDL', 'BMI',\n",
      "       'CLASS', 'Gender_M', 'Gender_f'],\n",
      "      dtype='object')\n"
     ]
    },
    {
     "data": {
      "text/html": [
       "<div>\n",
       "<style scoped>\n",
       "    .dataframe tbody tr th:only-of-type {\n",
       "        vertical-align: middle;\n",
       "    }\n",
       "\n",
       "    .dataframe tbody tr th {\n",
       "        vertical-align: top;\n",
       "    }\n",
       "\n",
       "    .dataframe thead th {\n",
       "        text-align: right;\n",
       "    }\n",
       "</style>\n",
       "<table border=\"1\" class=\"dataframe\">\n",
       "  <thead>\n",
       "    <tr style=\"text-align: right;\">\n",
       "      <th></th>\n",
       "      <th>AGE</th>\n",
       "      <th>Urea</th>\n",
       "      <th>Cr</th>\n",
       "      <th>HbA1c</th>\n",
       "      <th>Chol</th>\n",
       "      <th>TG</th>\n",
       "      <th>HDL</th>\n",
       "      <th>LDL</th>\n",
       "      <th>VLDL</th>\n",
       "      <th>BMI</th>\n",
       "      <th>CLASS</th>\n",
       "      <th>Gender_M</th>\n",
       "      <th>Gender_f</th>\n",
       "    </tr>\n",
       "  </thead>\n",
       "  <tbody>\n",
       "    <tr>\n",
       "      <th>0</th>\n",
       "      <td>50</td>\n",
       "      <td>4.7</td>\n",
       "      <td>46</td>\n",
       "      <td>4.9</td>\n",
       "      <td>4.2</td>\n",
       "      <td>0.9</td>\n",
       "      <td>2.4</td>\n",
       "      <td>1.4</td>\n",
       "      <td>0.5</td>\n",
       "      <td>24.0</td>\n",
       "      <td>0.0</td>\n",
       "      <td>False</td>\n",
       "      <td>False</td>\n",
       "    </tr>\n",
       "    <tr>\n",
       "      <th>1</th>\n",
       "      <td>26</td>\n",
       "      <td>4.5</td>\n",
       "      <td>62</td>\n",
       "      <td>4.9</td>\n",
       "      <td>3.7</td>\n",
       "      <td>1.4</td>\n",
       "      <td>1.1</td>\n",
       "      <td>2.1</td>\n",
       "      <td>0.6</td>\n",
       "      <td>23.0</td>\n",
       "      <td>0.0</td>\n",
       "      <td>True</td>\n",
       "      <td>False</td>\n",
       "    </tr>\n",
       "    <tr>\n",
       "      <th>2</th>\n",
       "      <td>50</td>\n",
       "      <td>4.7</td>\n",
       "      <td>46</td>\n",
       "      <td>4.9</td>\n",
       "      <td>4.2</td>\n",
       "      <td>0.9</td>\n",
       "      <td>2.4</td>\n",
       "      <td>1.4</td>\n",
       "      <td>0.5</td>\n",
       "      <td>24.0</td>\n",
       "      <td>0.0</td>\n",
       "      <td>False</td>\n",
       "      <td>False</td>\n",
       "    </tr>\n",
       "    <tr>\n",
       "      <th>3</th>\n",
       "      <td>50</td>\n",
       "      <td>4.7</td>\n",
       "      <td>46</td>\n",
       "      <td>4.9</td>\n",
       "      <td>4.2</td>\n",
       "      <td>0.9</td>\n",
       "      <td>2.4</td>\n",
       "      <td>1.4</td>\n",
       "      <td>0.5</td>\n",
       "      <td>24.0</td>\n",
       "      <td>0.0</td>\n",
       "      <td>False</td>\n",
       "      <td>False</td>\n",
       "    </tr>\n",
       "    <tr>\n",
       "      <th>4</th>\n",
       "      <td>33</td>\n",
       "      <td>7.1</td>\n",
       "      <td>46</td>\n",
       "      <td>4.9</td>\n",
       "      <td>4.9</td>\n",
       "      <td>1.0</td>\n",
       "      <td>0.8</td>\n",
       "      <td>2.0</td>\n",
       "      <td>0.4</td>\n",
       "      <td>21.0</td>\n",
       "      <td>0.0</td>\n",
       "      <td>True</td>\n",
       "      <td>False</td>\n",
       "    </tr>\n",
       "  </tbody>\n",
       "</table>\n",
       "</div>"
      ],
      "text/plain": [
       "   AGE  Urea  Cr  HbA1c  Chol   TG  HDL  LDL  VLDL   BMI  CLASS  Gender_M  \\\n",
       "0   50   4.7  46    4.9   4.2  0.9  2.4  1.4   0.5  24.0    0.0     False   \n",
       "1   26   4.5  62    4.9   3.7  1.4  1.1  2.1   0.6  23.0    0.0      True   \n",
       "2   50   4.7  46    4.9   4.2  0.9  2.4  1.4   0.5  24.0    0.0     False   \n",
       "3   50   4.7  46    4.9   4.2  0.9  2.4  1.4   0.5  24.0    0.0     False   \n",
       "4   33   7.1  46    4.9   4.9  1.0  0.8  2.0   0.4  21.0    0.0      True   \n",
       "\n",
       "   Gender_f  \n",
       "0     False  \n",
       "1     False  \n",
       "2     False  \n",
       "3     False  \n",
       "4     False  "
      ]
     },
     "execution_count": 4,
     "metadata": {},
     "output_type": "execute_result"
    }
   ],
   "source": [
    "# Eliminar columnas de identificación\n",
    "data = data.drop(columns=['ID', 'No_Pation'])\n",
    "\n",
    "# 2. Mapear la columna objetivo 'CLASS' a valores numéricos\n",
    "class_mapping = {'N': 0, 'P': 1, 'Y': 2}\n",
    "data['CLASS'] = data['CLASS'].map(class_mapping)\n",
    "\n",
    "# Convertir la variable categórica 'Gender' a numérica\n",
    "data = pd.get_dummies(data, columns=['Gender'], drop_first=True)\n",
    "\n",
    "# Eliminar filas con valores nulos si los hubiera\n",
    "data.dropna(inplace=True)\n",
    "\n",
    "# Renombrar columnas para que no tengan caracteres especiales\n",
    "data.columns = data.columns.str.replace('[^A-Za-z0-9_]+', '', regex=True)\n",
    "\n",
    "print(\"Preprocesamiento listo. Nuevas columnas:\")\n",
    "print(data.columns)\n",
    "data.head()"
   ]
  },
  {
   "cell_type": "code",
   "execution_count": 5,
   "id": "f8e3154c",
   "metadata": {},
   "outputs": [
    {
     "name": "stdout",
     "output_type": "stream",
     "text": [
      "<class 'pandas.core.frame.DataFrame'>\n",
      "Index: 995 entries, 0 to 995\n",
      "Data columns (total 13 columns):\n",
      " #   Column    Non-Null Count  Dtype  \n",
      "---  ------    --------------  -----  \n",
      " 0   AGE       995 non-null    int64  \n",
      " 1   Urea      995 non-null    float64\n",
      " 2   Cr        995 non-null    int64  \n",
      " 3   HbA1c     995 non-null    float64\n",
      " 4   Chol      995 non-null    float64\n",
      " 5   TG        995 non-null    float64\n",
      " 6   HDL       995 non-null    float64\n",
      " 7   LDL       995 non-null    float64\n",
      " 8   VLDL      995 non-null    float64\n",
      " 9   BMI       995 non-null    float64\n",
      " 10  CLASS     995 non-null    float64\n",
      " 11  Gender_M  995 non-null    bool   \n",
      " 12  Gender_f  995 non-null    bool   \n",
      "dtypes: bool(2), float64(9), int64(2)\n",
      "memory usage: 95.2 KB\n"
     ]
    }
   ],
   "source": [
    "data.info()"
   ]
  },
  {
   "cell_type": "code",
   "execution_count": 6,
   "id": "5cb9a2a1",
   "metadata": {},
   "outputs": [
    {
     "name": "stdout",
     "output_type": "stream",
     "text": [
      "Usando dispositivo: cpu\n"
     ]
    }
   ],
   "source": [
    "seed = 110425\n",
    "random.seed(seed)\n",
    "np.random.seed(seed)\n",
    "torch.manual_seed(seed)\n",
    "\n",
    "torch.backends.cudnn.deterministic = True\n",
    "torch.backends.cudnn.benchmark = False\n",
    "\n",
    "device = torch.device(\"cuda\" if torch.cuda.is_available() else \"cpu\")\n",
    "print(f\"Usando dispositivo: {device}\")"
   ]
  },
  {
   "cell_type": "code",
   "execution_count": 7,
   "id": "a76fd03d",
   "metadata": {},
   "outputs": [
    {
     "name": "stdout",
     "output_type": "stream",
     "text": [
      "--- Distribución de clases en la muestra del 10% ---\n",
      "CLASS\n",
      "1.0    50\n",
      "0.0    50\n",
      "2.0    50\n",
      "Name: count, dtype: int64\n",
      "--------------------------------------------------\n"
     ]
    }
   ],
   "source": [
    "#Resample\n",
    "class_0 = data[data['CLASS'] == 0].sample(n=50, random_state=42) \n",
    "class_1 = data[data['CLASS'] == 1].sample(n=50, random_state=42)\n",
    "class_2 = data[data['CLASS'] == 2].sample(n=50, random_state=42) \n",
    "balanced_train_data = pd.concat([class_0, class_1,class_2]).sample(frac=1, random_state=42).reset_index(drop=True)\n",
    "print(\"--- Distribución de clases en la muestra del 10% ---\")\n",
    "print(balanced_train_data['CLASS'].value_counts())\n",
    "print(\"-\" * 50)"
   ]
  },
  {
   "cell_type": "code",
   "execution_count": 8,
   "id": "a7eb5fd6",
   "metadata": {},
   "outputs": [],
   "source": [
    "# 1. (Opcional) Tomar una muestra del 10% para pruebas rápidas\n",
    "# Esto mantiene la proporción original de clases en la muestra\n",
    "#data_sample['diabetes'].value_counts() para cantidad minima escribir despues\n",
    "#_, data_sample, _, _ = train_test_split(balanced_train_data, balanced_train_data['diabetes'], test_size=0.10, random_state=42, stratify=data['diabetes'])\n",
    "data_sample = balanced_train_data\n",
    "\n",
    "# print(\"--- Distribución de clases en la muestra del 10% (antes de SMOTE) ---\")\n",
    "# print(data_sample['diabetes'].value_counts())\n",
    "# print(\"-\" * 50)\n",
    "\n",
    "# 2. Separar características (x) y objetivo (y) de la muestra\n",
    "x = data_sample.drop(columns=[\"CLASS\"]).to_numpy()\n",
    "y = data_sample[\"CLASS\"].to_numpy()\n",
    "\n",
    "# 3. Dividir en conjuntos de entrenamiento, validación y prueba ANTES de SMOTE\n",
    "X_train, X_test, y_train, y_test = train_test_split(x, y, test_size=0.20, random_state=42, stratify=y) # 20% para test\n",
    "X_train, X_val, y_train, y_val = train_test_split(X_train, y_train, test_size=0.15, random_state=42, stratify=y_train) # 15% del resto para validación\n",
    "\n",
    "# 4. Aplicar el escalado\n",
    "scaler = StandardScaler()\n",
    "X_train = scaler.fit_transform(X_train)\n",
    "X_val = scaler.transform(X_val) # Usar el mismo scaler del train\n",
    "X_test = scaler.transform(X_test) # Usar el mismo scaler del train\n"
   ]
  },
  {
   "cell_type": "code",
   "execution_count": 9,
   "id": "d356385c",
   "metadata": {},
   "outputs": [],
   "source": [
    "#Train\n",
    "X_train = torch.tensor(X_train, dtype=torch.float32)\n",
    "y_train = torch.tensor(y_train, dtype=torch.long)\n",
    "\n",
    "#Val\n",
    "X_val = torch.tensor(X_val, dtype=torch.float32)\n",
    "y_val = torch.tensor(y_val, dtype=torch.long)\n",
    "\n",
    "#Test\n",
    "X_test = torch.tensor(X_test, dtype=torch.float32)\n",
    "y_test = torch.tensor(y_test, dtype=torch.long)"
   ]
  },
  {
   "cell_type": "code",
   "execution_count": 10,
   "id": "12b2c912",
   "metadata": {},
   "outputs": [],
   "source": [
    "batchsize = 32\n",
    "class DiabetesDataset(Dataset):\n",
    "    def __init__(self, X, y):\n",
    "        self.X = X\n",
    "        self.y = y\n",
    "\n",
    "    def __len__(self):\n",
    "        return len(self.X)\n",
    "\n",
    "    def __getitem__(self, idx):\n",
    "        return self.X[idx], self.y[idx]\n",
    "\n",
    "train_data = DiabetesDataset(X_train, y_train)\n",
    "val_data = DiabetesDataset(X_val, y_val)\n",
    "test_data = DiabetesDataset(X_test, y_test)\n",
    "\n",
    "train_loader = DataLoader(train_data, batch_size=batchsize, shuffle=True)\n",
    "val_loader = DataLoader(val_data, batch_size=batchsize, shuffle=False)\n",
    "test_loader = DataLoader(test_data, batch_size=batchsize, shuffle=False)"
   ]
  },
  {
   "cell_type": "code",
   "execution_count": 11,
   "id": "5a8fd844",
   "metadata": {},
   "outputs": [
    {
     "data": {
      "text/plain": [
       "102"
      ]
     },
     "execution_count": 11,
     "metadata": {},
     "output_type": "execute_result"
    }
   ],
   "source": [
    "len(train_data)"
   ]
  },
  {
   "cell_type": "code",
   "execution_count": 12,
   "id": "98816b1b",
   "metadata": {},
   "outputs": [],
   "source": [
    "#Definir un modelo para trabajar\n",
    "\n",
    "class MLP(nn.Module):\n",
    "    def __init__(self):\n",
    "        super().__init__()\n",
    "        self.hc1 = nn.Linear(x.shape[1], 256) # Ajuste automático al número de columnas\n",
    "        self.hc2 = nn.Linear(256, 128)\n",
    "        self.hc3 = nn.Linear(128, 64)\n",
    "        self.hc4 = nn.Linear(64, 3)\n",
    "        self.act = nn.LeakyReLU()\n",
    "        self.dp1 = nn.Dropout(0.4)\n",
    "        self.dp2 = nn.Dropout(0.2)\n",
    "\n",
    "    def forward(self, input):\n",
    "        l1 = self.dp1(self.act(self.hc1(input)))\n",
    "        l2 = self.dp2(self.act(self.hc2(l1)))\n",
    "        l3 = self.act(self.hc3(l2))\n",
    "        output = self.hc4(l3)\n",
    "        return output"
   ]
  },
  {
   "cell_type": "code",
   "execution_count": 13,
   "id": "8a114c85",
   "metadata": {},
   "outputs": [],
   "source": [
    "testeo = MLP()\n",
    "lr = 1e-4\n",
    "opt = torch.optim.Adam(testeo.parameters(), lr=lr, weight_decay=1e-4)\n",
    "loss_func = nn.CrossEntropyLoss()\n"
   ]
  },
  {
   "cell_type": "code",
   "execution_count": 14,
   "id": "d0b17a15",
   "metadata": {},
   "outputs": [],
   "source": [
    "lambda_l1 = 1e-3\n",
    "def l1_penalty(model):\n",
    "    l1 = 0.0\n",
    "    for param in model.parameters():\n",
    "        if param.requires_grad and len(param.shape) > 1:\n",
    "            l1 += torch.norm(param, p=1)\n",
    "    return l1"
   ]
  },
  {
   "cell_type": "code",
   "execution_count": 15,
   "id": "9ee858f2",
   "metadata": {},
   "outputs": [
    {
     "name": "stdout",
     "output_type": "stream",
     "text": [
      "Terminando el entrenamiento en la época 344\n"
     ]
    }
   ],
   "source": [
    "#Entrenamiento\n",
    "\n",
    "n_epochs = 2000\n",
    "history = {\n",
    "    \"TL\" : [],\n",
    "    \"VL\" : []\n",
    "}\n",
    "early_stopping = {\n",
    "    \"delta\" : 1e-5,\n",
    "    \"patience\": 50\n",
    "}\n",
    "best_val_loss = float(\"inf\")\n",
    "aux = 0\n",
    "\n",
    "for i in range(n_epochs+1):\n",
    "    testeo.train()\n",
    "    epoch_loss = 0\n",
    "    for X_batch, y_batch in train_loader:  \n",
    "      output = testeo(X_batch)\n",
    "      loss = loss_func(output, y_batch)  #+ l1_penalty(testeo) *lambda_l1\n",
    "      \n",
    "      opt.zero_grad()\n",
    "      loss.backward()\n",
    "      opt.step()\n",
    "\n",
    "      epoch_loss += loss.item()\n",
    "    epoch_loss /= len(train_loader)\n",
    "    history[\"TL\"].append(epoch_loss)\n",
    "\n",
    "    testeo.eval()\n",
    "    epoch_loss = 0\n",
    "    for X_batch, y_batch in val_loader:\n",
    "      with torch.no_grad():\n",
    "        preds_val = testeo(X_batch)\n",
    "      val_loss = loss_func(preds_val, y_batch)\n",
    "\n",
    "      epoch_loss += val_loss.item()\n",
    "    epoch_loss /= len(val_loader)\n",
    "    history[\"VL\"].append(epoch_loss)\n",
    "    \n",
    "    if epoch_loss + early_stopping[\"delta\"] < best_val_loss:\n",
    "      best_val_loss = epoch_loss\n",
    "      aux = 0\n",
    "    else:\n",
    "      aux += 1\n",
    "      if aux >= early_stopping[\"patience\"]:\n",
    "        print(f\"Terminando el entrenamiento en la época {i}\")\n",
    "        break\n",
    "    "
   ]
  },
  {
   "cell_type": "code",
   "execution_count": 16,
   "id": "a609f3e9",
   "metadata": {},
   "outputs": [
    {
     "data": {
      "image/png": "[encoded data removed]",
      "text/plain": [
       "<Figure size 640x480 with 1 Axes>"
      ]
     },
     "metadata": {},
     "output_type": "display_data"
    }
   ],
   "source": [
    "\n",
    "plt.plot(history[\"TL\"], label=\"Train\")\n",
    "plt.plot(history[\"VL\"], label=\"Val\")\n",
    "plt.xlabel('Epoch')\n",
    "plt.ylabel('Loss Train')\n",
    "plt.legend()\n",
    "plt.show()"
   ]
  },
  {
   "cell_type": "code",
   "execution_count": 17,
   "id": "6220baa6",
   "metadata": {},
   "outputs": [
    {
     "name": "stdout",
     "output_type": "stream",
     "text": [
      "Training Accuracy: 0.99\n",
      "Testing Accuracy: 0.87\n"
     ]
    }
   ],
   "source": [
    "#Train\n",
    "with torch.no_grad():\n",
    "    output_train = testeo(X_train)\n",
    "y_hat_train = output_train.numpy()\n",
    "y_hat_train = [np.argmax(i) for i in y_hat_train]\n",
    "print(f'Training Accuracy: {accuracy_score(y_train, y_hat_train):.2f}')\n",
    "#Testeo\n",
    "with torch.no_grad():\n",
    "    output = testeo(X_test)  \n",
    "y_hat = output.numpy()\n",
    "y_hat = [np.argmax(i) for i in y_hat]\n",
    "print(f'Testing Accuracy: {accuracy_score(y_test, y_hat):.2f}')"
   ]
  },
  {
   "cell_type": "code",
   "execution_count": 20,
   "id": "4c85eada",
   "metadata": {},
   "outputs": [
    {
     "name": "stdout",
     "output_type": "stream",
     "text": [
      "              precision    recall  f1-score   support\n",
      "\n",
      "           N       0.75      0.90      0.82        10\n",
      "           P       1.00      0.80      0.89        10\n",
      "           Y       0.90      0.90      0.90        10\n",
      "\n",
      "    accuracy                           0.87        30\n",
      "   macro avg       0.88      0.87      0.87        30\n",
      "weighted avg       0.88      0.87      0.87        30\n",
      "\n"
     ]
    },
    {
     "data": {
      "image/png": "[encoded data removed]",
      "text/plain": [
       "<Figure size 640x480 with 2 Axes>"
      ]
     },
     "metadata": {},
     "output_type": "display_data"
    }
   ],
   "source": [
    "print(classification_report(y_test, y_hat, target_names=['N', 'P', 'Y']))\n",
    "cm =confusion_matrix(y_test, y_hat)\n",
    "cm_plot = ConfusionMatrixDisplay(confusion_matrix=cm)\n",
    "cm_plot.plot()\n",
    "plt.show()"
   ]
  }
 ],
 "metadata": {
  "kernelspec": {
   "display_name": "Python 3",
   "language": "python",
   "name": "python3"
  },
  "language_info": {
   "codemirror_mode": {
    "name": "ipython",
    "version": 3
   },
   "file_extension": ".py",
   "mimetype": "text/x-python",
   "name": "python",
   "nbconvert_exporter": "python",
   "pygments_lexer": "ipython3",
   "version": "3.10.0"
  }
 },
 "nbformat": 4,
 "nbformat_minor": 5
}
