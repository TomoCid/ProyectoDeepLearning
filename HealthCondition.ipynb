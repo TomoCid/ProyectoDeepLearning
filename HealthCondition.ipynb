{
 "cells": [
  {
   "cell_type": "markdown",
   "id": "d1ee461e",
   "metadata": {},
   "source": [
    "# 🧠 Clasificador de Estado de Salud con PyTorch\n",
    "\n",
    "Este proyecto utiliza una red neuronal profunda (MLP) implementada en PyTorch para clasificar el estado de salud de pacientes en tres categorías: **mala**, **regular** o **buena**, usando un conjunto de datos tabulares.\n",
    "\n",
    "---\n"
   ]
  },
  {
   "cell_type": "markdown",
   "id": "58644198",
   "metadata": {},
   "source": [
    "## Importar librerias"
   ]
  },
  {
   "cell_type": "code",
   "execution_count": null,
   "id": "06ca4174",
   "metadata": {},
   "outputs": [
    {
     "name": "stdout",
     "output_type": "stream",
     "text": [
      "\u001b[1m\u001b[38;5;208mVersión de las librerias utilizadas:\n",
      "\u001b[1m\u001b[38;5;208m- Version pandas: 2.2.3\n",
      "\u001b[1m\u001b[38;5;208m- Version numpy: 1.26.4\n"
     ]
    }
   ],
   "source": [
    "# Manejo de datos\n",
    "import numpy as np\n",
    "import pandas as pd\n",
    "import os\n",
    "from datetime import datetime\n",
    "\n",
    "#Preprocesamiento de datos\n",
    "from sklearn.preprocessing import StandardScaler\n",
    "from sklearn.model_selection import train_test_split\n",
    "\n",
    "# Gráficos (Incluidos únicamente en el archivo .ipybn)\n",
    "import matplotlib.pyplot as plt\n",
    "plt.style.use('fivethirtyeight')\n",
    "plt.rcParams['lines.linewidth'] = 1.5\n",
    "plt.rcParams['font.size'] = 10\n",
    "\n",
    "# Configuración warnings (Quitar en caso de errores desconocidos)\n",
    "import warnings\n",
    "warnings.filterwarnings('ignore')\n",
    "\n",
    "# Versión de paquetes usados\n",
    "color = '\\033[1m\\033[38;5;208m'\n",
    "print(f\"{color}Versión de las librerias utilizadas:\")\n",
    "print(f\"{color}- Version pandas: {pd.__version__}\")\n",
    "print(f\"{color}- Version numpy: {np.__version__}\")"
   ]
  },
  {
   "cell_type": "markdown",
   "id": "9f80d584",
   "metadata": {},
   "source": [
    "## Lectura del dataset"
   ]
  },
  {
   "cell_type": "code",
   "execution_count": 7,
   "id": "ec70fe59",
   "metadata": {},
   "outputs": [
    {
     "name": "stdout",
     "output_type": "stream",
     "text": [
      "Archivo cargado correctamente.\n"
     ]
    }
   ],
   "source": [
    "try:\n",
    "    data = pd.read_csv('health_activity_data.csv')\n",
    "    print(\"Archivo cargado correctamente.\")\n",
    "except Exception as e:\n",
    "    print(f\"Error: {e}\")"
   ]
  },
  {
   "cell_type": "code",
   "execution_count": 8,
   "id": "3e080271",
   "metadata": {},
   "outputs": [
    {
     "data": {
      "text/html": [
       "<div>\n",
       "<style scoped>\n",
       "    .dataframe tbody tr th:only-of-type {\n",
       "        vertical-align: middle;\n",
       "    }\n",
       "\n",
       "    .dataframe tbody tr th {\n",
       "        vertical-align: top;\n",
       "    }\n",
       "\n",
       "    .dataframe thead th {\n",
       "        text-align: right;\n",
       "    }\n",
       "</style>\n",
       "<table border=\"1\" class=\"dataframe\">\n",
       "  <thead>\n",
       "    <tr style=\"text-align: right;\">\n",
       "      <th></th>\n",
       "      <th>ID</th>\n",
       "      <th>Age</th>\n",
       "      <th>Gender</th>\n",
       "      <th>Height_cm</th>\n",
       "      <th>Weight_kg</th>\n",
       "      <th>BMI</th>\n",
       "      <th>Daily_Steps</th>\n",
       "      <th>Calories_Intake</th>\n",
       "      <th>Hours_of_Sleep</th>\n",
       "      <th>Heart_Rate</th>\n",
       "      <th>Blood_Pressure</th>\n",
       "      <th>Exercise_Hours_per_Week</th>\n",
       "      <th>Smoker</th>\n",
       "      <th>Alcohol_Consumption_per_Week</th>\n",
       "      <th>Diabetic</th>\n",
       "      <th>Heart_Disease</th>\n",
       "    </tr>\n",
       "  </thead>\n",
       "  <tbody>\n",
       "    <tr>\n",
       "      <th>0</th>\n",
       "      <td>1</td>\n",
       "      <td>56</td>\n",
       "      <td>Male</td>\n",
       "      <td>164</td>\n",
       "      <td>81</td>\n",
       "      <td>30.72</td>\n",
       "      <td>5134</td>\n",
       "      <td>1796</td>\n",
       "      <td>8.6</td>\n",
       "      <td>102</td>\n",
       "      <td>137/72</td>\n",
       "      <td>8.1</td>\n",
       "      <td>No</td>\n",
       "      <td>7</td>\n",
       "      <td>No</td>\n",
       "      <td>No</td>\n",
       "    </tr>\n",
       "    <tr>\n",
       "      <th>1</th>\n",
       "      <td>2</td>\n",
       "      <td>69</td>\n",
       "      <td>Male</td>\n",
       "      <td>156</td>\n",
       "      <td>82</td>\n",
       "      <td>20.86</td>\n",
       "      <td>12803</td>\n",
       "      <td>1650</td>\n",
       "      <td>4.5</td>\n",
       "      <td>103</td>\n",
       "      <td>129/65</td>\n",
       "      <td>3.7</td>\n",
       "      <td>No</td>\n",
       "      <td>7</td>\n",
       "      <td>No</td>\n",
       "      <td>No</td>\n",
       "    </tr>\n",
       "    <tr>\n",
       "      <th>2</th>\n",
       "      <td>3</td>\n",
       "      <td>46</td>\n",
       "      <td>Female</td>\n",
       "      <td>158</td>\n",
       "      <td>65</td>\n",
       "      <td>30.93</td>\n",
       "      <td>16408</td>\n",
       "      <td>1756</td>\n",
       "      <td>4.3</td>\n",
       "      <td>74</td>\n",
       "      <td>127/68</td>\n",
       "      <td>3.2</td>\n",
       "      <td>Yes</td>\n",
       "      <td>0</td>\n",
       "      <td>No</td>\n",
       "      <td>No</td>\n",
       "    </tr>\n",
       "    <tr>\n",
       "      <th>3</th>\n",
       "      <td>4</td>\n",
       "      <td>32</td>\n",
       "      <td>Male</td>\n",
       "      <td>197</td>\n",
       "      <td>87</td>\n",
       "      <td>31.19</td>\n",
       "      <td>18420</td>\n",
       "      <td>2359</td>\n",
       "      <td>4.1</td>\n",
       "      <td>116</td>\n",
       "      <td>125/86</td>\n",
       "      <td>8.5</td>\n",
       "      <td>No</td>\n",
       "      <td>5</td>\n",
       "      <td>No</td>\n",
       "      <td>No</td>\n",
       "    </tr>\n",
       "    <tr>\n",
       "      <th>4</th>\n",
       "      <td>5</td>\n",
       "      <td>60</td>\n",
       "      <td>Male</td>\n",
       "      <td>157</td>\n",
       "      <td>63</td>\n",
       "      <td>29.37</td>\n",
       "      <td>17351</td>\n",
       "      <td>2556</td>\n",
       "      <td>5.1</td>\n",
       "      <td>111</td>\n",
       "      <td>100/64</td>\n",
       "      <td>8.5</td>\n",
       "      <td>Yes</td>\n",
       "      <td>8</td>\n",
       "      <td>No</td>\n",
       "      <td>No</td>\n",
       "    </tr>\n",
       "  </tbody>\n",
       "</table>\n",
       "</div>"
      ],
      "text/plain": [
       "   ID  Age  Gender  Height_cm  Weight_kg    BMI  Daily_Steps  Calories_Intake  \\\n",
       "0   1   56    Male        164         81  30.72         5134             1796   \n",
       "1   2   69    Male        156         82  20.86        12803             1650   \n",
       "2   3   46  Female        158         65  30.93        16408             1756   \n",
       "3   4   32    Male        197         87  31.19        18420             2359   \n",
       "4   5   60    Male        157         63  29.37        17351             2556   \n",
       "\n",
       "   Hours_of_Sleep  Heart_Rate Blood_Pressure  Exercise_Hours_per_Week Smoker  \\\n",
       "0             8.6         102         137/72                      8.1     No   \n",
       "1             4.5         103         129/65                      3.7     No   \n",
       "2             4.3          74         127/68                      3.2    Yes   \n",
       "3             4.1         116         125/86                      8.5     No   \n",
       "4             5.1         111         100/64                      8.5    Yes   \n",
       "\n",
       "   Alcohol_Consumption_per_Week Diabetic Heart_Disease  \n",
       "0                             7       No            No  \n",
       "1                             7       No            No  \n",
       "2                             0       No            No  \n",
       "3                             5       No            No  \n",
       "4                             8       No            No  "
      ]
     },
     "execution_count": 8,
     "metadata": {},
     "output_type": "execute_result"
    }
   ],
   "source": [
    "data.head(5)"
   ]
  },
  {
   "cell_type": "code",
   "execution_count": 9,
   "id": "f8e3154c",
   "metadata": {},
   "outputs": [
    {
     "name": "stdout",
     "output_type": "stream",
     "text": [
      "<class 'pandas.core.frame.DataFrame'>\n",
      "RangeIndex: 1000 entries, 0 to 999\n",
      "Data columns (total 16 columns):\n",
      " #   Column                        Non-Null Count  Dtype  \n",
      "---  ------                        --------------  -----  \n",
      " 0   ID                            1000 non-null   int64  \n",
      " 1   Age                           1000 non-null   int64  \n",
      " 2   Gender                        1000 non-null   object \n",
      " 3   Height_cm                     1000 non-null   int64  \n",
      " 4   Weight_kg                     1000 non-null   int64  \n",
      " 5   BMI                           1000 non-null   float64\n",
      " 6   Daily_Steps                   1000 non-null   int64  \n",
      " 7   Calories_Intake               1000 non-null   int64  \n",
      " 8   Hours_of_Sleep                1000 non-null   float64\n",
      " 9   Heart_Rate                    1000 non-null   int64  \n",
      " 10  Blood_Pressure                1000 non-null   object \n",
      " 11  Exercise_Hours_per_Week       1000 non-null   float64\n",
      " 12  Smoker                        1000 non-null   object \n",
      " 13  Alcohol_Consumption_per_Week  1000 non-null   int64  \n",
      " 14  Diabetic                      1000 non-null   object \n",
      " 15  Heart_Disease                 1000 non-null   object \n",
      "dtypes: float64(3), int64(8), object(5)\n",
      "memory usage: 125.1+ KB\n"
     ]
    }
   ],
   "source": [
    "data.info()"
   ]
  }
 ],
 "metadata": {
  "kernelspec": {
   "display_name": "Python 3",
   "language": "python",
   "name": "python3"
  },
  "language_info": {
   "codemirror_mode": {
    "name": "ipython",
    "version": 3
   },
   "file_extension": ".py",
   "mimetype": "text/x-python",
   "name": "python",
   "nbconvert_exporter": "python",
   "pygments_lexer": "ipython3",
   "version": "3.10.0"
  }
 },
 "nbformat": 4,
 "nbformat_minor": 5
}
