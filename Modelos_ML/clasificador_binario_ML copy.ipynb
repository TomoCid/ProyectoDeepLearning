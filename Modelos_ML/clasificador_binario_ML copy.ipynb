{
 "cells": [
  {
   "cell_type": "code",
   "execution_count": 153,
   "id": "a2b4d3a7",
   "metadata": {},
   "outputs": [
    {
     "name": "stdout",
     "output_type": "stream",
     "text": [
      "\u001b[1m\u001b[38;5;208mVersión de las librerias utilizadas:\n",
      "\u001b[1m\u001b[38;5;208m- Version xgboost: 3.0.2\n",
      "\u001b[1m\u001b[38;5;208m- Version pandas: 2.2.3\n",
      "\u001b[1m\u001b[38;5;208m- Version numpy: 1.26.4\n"
     ]
    }
   ],
   "source": [
    "import numpy as np\n",
    "import pandas as pd\n",
    "import os\n",
    "\n",
    "import xgboost as xgb\n",
    "\n",
    "from sklearn.model_selection import train_test_split, GridSearchCV\n",
    "from sklearn.metrics import accuracy_score, classification_report, confusion_matrix\n",
    "from sklearn.preprocessing import StandardScaler\n",
    "\n",
    "import seaborn as sns\n",
    "import matplotlib.pyplot as plt\n",
    "import joblib\n",
    "\n",
    "import warnings\n",
    "warnings.filterwarnings('ignore')\n",
    "\n",
    "color = '\\033[1m\\033[38;5;208m'\n",
    "print(f\"{color}Versión de las librerias utilizadas:\")\n",
    "print(f\"{color}- Version xgboost: {xgb.__version__}\")\n",
    "print(f\"{color}- Version pandas: {pd.__version__}\")\n",
    "print(f\"{color}- Version numpy: {np.__version__}\")\n"
   ]
  },
  {
   "cell_type": "code",
   "execution_count": 154,
   "id": "f61287ff",
   "metadata": {},
   "outputs": [],
   "source": [
    "num_sample_per_class = 50000"
   ]
  },
  {
   "cell_type": "code",
   "execution_count": 155,
   "id": "1779f228",
   "metadata": {},
   "outputs": [
    {
     "name": "stdout",
     "output_type": "stream",
     "text": [
      "Dataset original cargado correctamente.\n",
      "Dataset generado cargado correctamente.\n"
     ]
    }
   ],
   "source": [
    "try:\n",
    "    data = pd.read_csv('../Datasets/dataset_original.csv') \n",
    "    print(\"Dataset original cargado correctamente.\")\n",
    "except Exception as e:\n",
    "    print(f\"Error: {e}\")\n",
    "\n",
    "try:\n",
    "    data_gen = pd.read_csv('../Datasets/dataset_Gen.csv')  \n",
    "    print(\"Dataset generado cargado correctamente.\")\n",
    "except Exception as e:\n",
    "    print(f\"Error: {e}\")\n"
   ]
  },
  {
   "cell_type": "code",
   "execution_count": 156,
   "id": "e7fd9664",
   "metadata": {},
   "outputs": [
    {
     "name": "stdout",
     "output_type": "stream",
     "text": [
      "Preprocesamiento dataset original listo.\n"
     ]
    }
   ],
   "source": [
    "data['gender'] = data['gender'].astype(str).str.strip().str.upper()\n",
    "\n",
    "def recategorize_smoking(smoking_status):\n",
    "    if smoking_status in ['never', 'No Info']:\n",
    "        return 'non-smoker'\n",
    "    elif smoking_status == 'current':\n",
    "        return 'current'\n",
    "    elif smoking_status in ['ever', 'former', 'not current']:\n",
    "        return 'past_smoker'\n",
    "\n",
    "data['smoking_history'] = data['smoking_history'].apply(recategorize_smoking)\n",
    "\n",
    "data = pd.get_dummies(data, columns=['gender', 'smoking_history'], drop_first=True)\n",
    "data.dropna(inplace=True)\n",
    "data.columns = data.columns.str.replace('[^A-Za-z0-9_]+', '', regex=True)\n",
    "\n",
    "print(\"Preprocesamiento dataset original listo.\")\n",
    "data_sample = data\n"
   ]
  },
  {
   "cell_type": "code",
   "execution_count": 157,
   "id": "91f6bbc2",
   "metadata": {},
   "outputs": [
    {
     "name": "stdout",
     "output_type": "stream",
     "text": [
      "Preprocesamiento dataset generado listo.\n"
     ]
    }
   ],
   "source": [
    "data_gen['gender'] = data_gen['gender'].astype(str).str.strip().str.upper()\n",
    "data_gen['smoking_history'] = data_gen['smoking_history'].apply(recategorize_smoking)\n",
    "\n",
    "data_gen = pd.get_dummies(data_gen, columns=['gender', 'smoking_history'], drop_first=True)\n",
    "data_gen.dropna(inplace=True)\n",
    "data_gen.columns = data_gen.columns.str.replace('[^A-Za-z0-9_]+', '', regex=True)\n",
    "\n",
    "print(\"Preprocesamiento dataset generado listo.\")\n",
    "data_gen_sample = data_gen\n"
   ]
  },
  {
   "cell_type": "code",
   "execution_count": 158,
   "id": "7116fc02",
   "metadata": {},
   "outputs": [
    {
     "name": "stdout",
     "output_type": "stream",
     "text": [
      "<class 'pandas.core.frame.DataFrame'>\n",
      "RangeIndex: 100000 entries, 0 to 99999\n",
      "Data columns (total 11 columns):\n",
      " #   Column                       Non-Null Count   Dtype  \n",
      "---  ------                       --------------   -----  \n",
      " 0   age                          100000 non-null  float64\n",
      " 1   hypertension                 100000 non-null  int64  \n",
      " 2   heart_disease                100000 non-null  int64  \n",
      " 3   bmi                          100000 non-null  float64\n",
      " 4   HbA1c_level                  100000 non-null  float64\n",
      " 5   blood_glucose_level          100000 non-null  int64  \n",
      " 6   diabetes                     100000 non-null  int64  \n",
      " 7   gender_MALE                  100000 non-null  bool   \n",
      " 8   gender_OTHER                 100000 non-null  bool   \n",
      " 9   smoking_history_nonsmoker    100000 non-null  bool   \n",
      " 10  smoking_history_past_smoker  100000 non-null  bool   \n",
      "dtypes: bool(4), float64(3), int64(4)\n",
      "memory usage: 5.7 MB\n",
      "<class 'pandas.core.frame.DataFrame'>\n",
      "RangeIndex: 100000 entries, 0 to 99999\n",
      "Data columns (total 10 columns):\n",
      " #   Column                       Non-Null Count   Dtype  \n",
      "---  ------                       --------------   -----  \n",
      " 0   age                          100000 non-null  float64\n",
      " 1   hypertension                 100000 non-null  int64  \n",
      " 2   heart_disease                100000 non-null  int64  \n",
      " 3   bmi                          100000 non-null  float64\n",
      " 4   HbA1c_level                  100000 non-null  float64\n",
      " 5   blood_glucose_level          100000 non-null  int64  \n",
      " 6   diabetes                     100000 non-null  int64  \n",
      " 7   gender_1                     100000 non-null  bool   \n",
      " 8   smoking_history_nonsmoker    100000 non-null  bool   \n",
      " 9   smoking_history_past_smoker  100000 non-null  bool   \n",
      "dtypes: bool(3), float64(3), int64(4)\n",
      "memory usage: 5.6 MB\n"
     ]
    }
   ],
   "source": [
    "data.info()\n",
    "data_gen.info()"
   ]
  },
  {
   "cell_type": "code",
   "execution_count": 159,
   "id": "47b279ad",
   "metadata": {},
   "outputs": [],
   "source": [
    "data_count = data['diabetes'].value_counts()\n",
    "if ((0 in data_count) and (data_count[0] < num_sample_per_class)):\n",
    "    class_0 = data_gen[data_gen['diabetes'] == 0].sample(n=num_sample_per_class-data_count[0], random_state=42)\n",
    "if ((1 in data_count) and (data_count[1] < num_sample_per_class)):\n",
    "    class_1 = data_gen[data_gen['diabetes'] == 1].sample(n=num_sample_per_class-data_count[1], random_state=42)"
   ]
  },
  {
   "cell_type": "code",
   "execution_count": 160,
   "id": "ef03afbb",
   "metadata": {},
   "outputs": [
    {
     "name": "stdout",
     "output_type": "stream",
     "text": [
      "--- Distribución de clases completadas ---\n",
      "diabetes\n",
      "1    41500\n",
      "Name: count, dtype: int64\n"
     ]
    }
   ],
   "source": [
    "balanced_train_data_gen = pd.concat([class_0, class_1]).sample(frac=1, random_state=42).reset_index(drop=True)\n",
    "print(\"--- Distribución de clases completadas ---\")\n",
    "print(balanced_train_data_gen['diabetes'].value_counts())\n",
    "data_gen_sample = balanced_train_data_gen"
   ]
  },
  {
   "cell_type": "code",
   "execution_count": 161,
   "id": "b1d344c2",
   "metadata": {},
   "outputs": [],
   "source": [
    "x = data_sample.drop(columns=[\"diabetes\"]).to_numpy()\n",
    "y = data_sample[\"diabetes\"].to_numpy()\n",
    "\n",
    "X_train, X_test, y_train, y_test = train_test_split(x, y, test_size=0.20, random_state=42, stratify=y)\n",
    "X_train, X_val, y_train, y_val = train_test_split(X_train, y_train, test_size=0.15, random_state=42, stratify=y_train)\n",
    "\n",
    "# Verificar si hay datos generados para usar\n",
    "if not data_gen_sample.empty:\n",
    "    x_gen = data_gen_sample.drop(columns=[\"diabetes\"]).to_numpy() \n",
    "    y_gen = data_gen_sample[\"diabetes\"].to_numpy()\n",
    "    \n",
    "    X_gen_train, X_gen_test, y_gen_train, y_gen_test = train_test_split(x_gen, y_gen, test_size=0.20, random_state=42, stratify=y_gen)\n",
    "    X_gen_train, X_gen_val, y_gen_train, y_gen_val = train_test_split(X_gen_train, y_gen_train, test_size=0.15, random_state=42, stratify=y_gen_train)\n",
    "else:\n",
    "    # Si no hay datos generados, usar arrays vacíos\n",
    "    X_gen_train, X_gen_test = np.array([]).reshape(0, x.shape[1]), np.array([]).reshape(0, x.shape[1])\n",
    "    y_gen_train, y_gen_test = np.array([]), np.array([])\n",
    "    X_gen_val, y_gen_val = np.array([]).reshape(0, x.shape[1]), np.array([])\n"
   ]
  },
  {
   "cell_type": "code",
   "execution_count": 162,
   "id": "585624f3",
   "metadata": {},
   "outputs": [
    {
     "name": "stdout",
     "output_type": "stream",
     "text": [
      "Datos finales - Train: 96220, Test: 28300\n"
     ]
    }
   ],
   "source": [
    "X_train_orig_pd = pd.DataFrame(X_train)\n",
    "y_train_orig_pd = pd.Series(y_train)\n",
    "X_test_orig_pd = pd.DataFrame(X_test)\n",
    "y_test_orig_pd = pd.Series(y_test)\n",
    "\n",
    "X_gen_train_pd = pd.DataFrame(X_gen_train)\n",
    "y_gen_train_pd = pd.Series(y_gen_train)\n",
    "X_gen_test_pd = pd.DataFrame(X_gen_test)\n",
    "y_gen_test_pd = pd.Series(y_gen_test)\n",
    "\n",
    "X_train = (pd.concat([X_gen_train_pd, X_train_orig_pd]).sample(frac=1, random_state=42).reset_index(drop=True)).to_numpy()\n",
    "y_train = (pd.concat([y_gen_train_pd, y_train_orig_pd]).sample(frac=1, random_state=42).reset_index(drop=True)).to_numpy()\n",
    "\n",
    "X_test = (pd.concat([X_gen_test_pd, X_test_orig_pd]).sample(frac=1, random_state=42).reset_index(drop=True)).to_numpy()\n",
    "y_test = (pd.concat([y_gen_test_pd, y_test_orig_pd]).sample(frac=1, random_state=42).reset_index(drop=True)).to_numpy()\n",
    "\n",
    "print(f\"Datos finales - Train: {len(X_train)}, Test: {len(X_test)}\")\n"
   ]
  },
  {
   "cell_type": "code",
   "execution_count": 163,
   "id": "553918d7",
   "metadata": {},
   "outputs": [],
   "source": [
    "clf = xgb.XGBClassifier()"
   ]
  },
  {
   "cell_type": "code",
   "execution_count": 164,
   "id": "c89decab",
   "metadata": {},
   "outputs": [],
   "source": [
    "param_grid = {\n",
    "    'n_estimators': [100],\n",
    "    'max_depth': [3],\n",
    "    'learning_rate': [0.001, 0.01],\n",
    "    'subsample': [0.8],\n",
    "    'colsample_bytree': [0.8]\n",
    "}"
   ]
  },
  {
   "cell_type": "code",
   "execution_count": 165,
   "id": "00902f03",
   "metadata": {},
   "outputs": [
    {
     "name": "stdout",
     "output_type": "stream",
     "text": [
      "Best Parameters: {'colsample_bytree': 0.8, 'learning_rate': 0.01, 'max_depth': 3, 'n_estimators': 100, 'subsample': 0.8}\n"
     ]
    }
   ],
   "source": [
    "grid_search = GridSearchCV(clf, param_grid, cv=5)\n",
    "grid_search.fit(X_train, y_train)\n",
    "best_model = grid_search.best_estimator_\n",
    "print(\"Best Parameters:\", grid_search.best_params_)\n"
   ]
  },
  {
   "cell_type": "code",
   "execution_count": 166,
   "id": "19e20961",
   "metadata": {},
   "outputs": [
    {
     "data": {
      "text/plain": [
       "['../Guardar_modelo/Test/Binary/Binary_50000_xgboost.pkl']"
      ]
     },
     "execution_count": 166,
     "metadata": {},
     "output_type": "execute_result"
    }
   ],
   "source": [
    "model_dir = f'../Guardar_modelo/Test/Binary/'\n",
    "os.makedirs(model_dir, exist_ok=True)\n",
    "\n",
    "model_path = f'{model_dir}Binary_{num_sample_per_class}_xgboost.pkl'\n",
    "joblib.dump(grid_search.best_estimator_, model_path)\n"
   ]
  },
  {
   "cell_type": "code",
   "execution_count": 167,
   "id": "a903b349",
   "metadata": {},
   "outputs": [],
   "source": [
    "y_pred = grid_search.predict(X_test)\n"
   ]
  },
  {
   "cell_type": "code",
   "execution_count": 168,
   "id": "3eb4d4c0",
   "metadata": {},
   "outputs": [
    {
     "name": "stdout",
     "output_type": "stream",
     "text": [
      "Model Accuracy: 0.9804240282685512\n",
      "              precision    recall  f1-score   support\n",
      "\n",
      "No Diabético       0.97      1.00      0.99     18300\n",
      "   Diabético       1.00      0.94      0.97     10000\n",
      "\n",
      "    accuracy                           0.98     28300\n",
      "   macro avg       0.99      0.97      0.98     28300\n",
      "weighted avg       0.98      0.98      0.98     28300\n",
      "\n"
     ]
    },
    {
     "data": {
      "image/png": "[encoded data removed]",
      "text/plain": [
       "<Figure size 800x600 with 2 Axes>"
      ]
     },
     "metadata": {},
     "output_type": "display_data"
    }
   ],
   "source": [
    "print('Model Accuracy:', accuracy_score(y_test, y_pred))\n",
    "print(classification_report(y_test, y_pred, target_names=['No Diabético', 'Diabético']))\n",
    "\n",
    "cm = confusion_matrix(y_test, y_pred)\n",
    "class_names = ['No Diabético', 'Diabético']\n",
    "plt.figure(figsize=(8, 6))\n",
    "sns.heatmap(cm, annot=True, fmt='d', cmap='Blues', xticklabels=class_names, yticklabels=class_names)\n",
    "plt.xlabel('Predicción')\n",
    "plt.ylabel('Valor Real')\n",
    "plt.title('Matriz de Confusión - XGBoost (Binario)')\n",
    "plt.show()"
   ]
  }
 ],
 "metadata": {
  "kernelspec": {
   "display_name": "Python 3",
   "language": "python",
   "name": "python3"
  },
  "language_info": {
   "codemirror_mode": {
    "name": "ipython",
    "version": 3
   },
   "file_extension": ".py",
   "mimetype": "text/x-python",
   "name": "python",
   "nbconvert_exporter": "python",
   "pygments_lexer": "ipython3",
   "version": "3.10.0"
  }
 },
 "nbformat": 4,
 "nbformat_minor": 5
}
