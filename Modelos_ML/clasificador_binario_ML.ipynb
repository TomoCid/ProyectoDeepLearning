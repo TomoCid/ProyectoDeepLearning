{
 "cells": [
  {
   "cell_type": "code",
   "execution_count": null,
   "id": "a2b4d3a7",
   "metadata": {},
   "outputs": [],
   "source": [
    "#Imports necesarios para el análisis de datos\n",
    "import numpy as np\n",
    "import pandas as pd\n",
    "\n",
    "#Librerías para visualización\n",
    "import matplotlib.pyplot as plt\n",
    "import seaborn as sns\n",
    "\n",
    "#XGBoost para el modelo de clasificación\n",
    "import xgboost as xgb\n",
    "\n",
    "#Herramientas de sklearn para entrenamiento y evaluación\n",
    "from sklearn.model_selection import train_test_split, GridSearchCV\n",
    "from sklearn.metrics import accuracy_score, classification_report, confusion_matrix\n",
    "from sklearn.preprocessing import StandardScaler, OneHotEncoder\n",
    "from sklearn.compose import ColumnTransformer\n",
    "from sklearn.pipeline import Pipeline\n",
    "from collections import Counter\n",
    "\n",
    "#Se usa para guardar el modelo entrenado\n",
    "import joblib\n",
    "\n",
    "#Suprimir warnings para una salida más limpia\n",
    "import warnings\n",
    "warnings.filterwarnings(\"ignore\")"
   ]
  },
  {
   "cell_type": "code",
   "execution_count": null,
   "id": "7116fc02",
   "metadata": {},
   "outputs": [],
   "source": [
    "#Cargar el dataset de diabetes\n",
    "data = pd.read_csv('../Datasets/dataset_original.csv')"
   ]
  },
  {
   "cell_type": "code",
   "execution_count": null,
   "id": "47b279ad",
   "metadata": {},
   "outputs": [],
   "source": [
    "#Limpiar y estandarizar la columna de género\n",
    "data['gender'] = data['gender'].astype(str).str.strip().str.upper()"
   ]
  },
  {
   "cell_type": "code",
   "execution_count": null,
   "id": "97f3c5d8",
   "metadata": {},
   "outputs": [
    {
     "name": "stdout",
     "output_type": "stream",
     "text": [
      "<class 'pandas.core.frame.DataFrame'>\n",
      "RangeIndex: 100000 entries, 0 to 99999\n",
      "Data columns (total 9 columns):\n",
      " #   Column               Non-Null Count   Dtype  \n",
      "---  ------               --------------   -----  \n",
      " 0   gender               100000 non-null  object \n",
      " 1   age                  100000 non-null  float64\n",
      " 2   hypertension         100000 non-null  int64  \n",
      " 3   heart_disease        100000 non-null  int64  \n",
      " 4   smoking_history      100000 non-null  object \n",
      " 5   bmi                  100000 non-null  float64\n",
      " 6   HbA1c_level          100000 non-null  float64\n",
      " 7   blood_glucose_level  100000 non-null  int64  \n",
      " 8   diabetes             100000 non-null  int64  \n",
      "dtypes: float64(3), int64(4), object(2)\n",
      "memory usage: 6.9+ MB\n"
     ]
    }
   ],
   "source": [
    "#Mostrar información general del dataset para comprobar visualmente\n",
    "data.info()"
   ]
  },
  {
   "cell_type": "code",
   "execution_count": null,
   "id": "a93c7245",
   "metadata": {},
   "outputs": [],
   "source": [
    "#Se recategoriza el historial de tabaquismo en grupos más simples\n",
    "def recategorize_smoking(smoking_status):\n",
    "    if smoking_status in ['never', 'No Info']:\n",
    "        return 'non-smoker'\n",
    "    elif smoking_status == 'current':\n",
    "        return 'current'\n",
    "    elif smoking_status in ['ever', 'former', 'not current']:\n",
    "        return 'past_smoker'\n",
    "    \n",
    "data['smoking_history'] = data['smoking_history'].apply(recategorize_smoking)"
   ]
  },
  {
   "cell_type": "code",
   "execution_count": null,
   "id": "d3a2d45f",
   "metadata": {},
   "outputs": [
    {
     "name": "stdout",
     "output_type": "stream",
     "text": [
      "=== CONFIGURACIÓN: 5000 muestras totales ===\n",
      "Clase 0 (No diabetes): 4575\n",
      "Clase 1 (Diabetes): 425\n",
      "\n",
      "Distribución final:\n",
      "diabetes\n",
      "0    4575\n",
      "1     425\n",
      "Name: count, dtype: int64\n",
      "Proporciones finales:\n",
      "diabetes\n",
      "0    0.915\n",
      "1    0.085\n",
      "Name: proportion, dtype: float64\n"
     ]
    }
   ],
   "source": [
    "#Configuración del tamaño de muestra para el entrenamiento\n",
    "total_samples = 5000  \n",
    "\n",
    "#Calcular muestras por clase manteniendo proporciones 91.5% / 8.5%\n",
    "class_0_samples = int(total_samples * 0.915)\n",
    "class_1_samples = int(total_samples * 0.085)\n",
    "\n",
    "#print(f\"=== CONFIGURACIÓN: {total_samples} muestras totales ===\")\n",
    "#print(f\"Clase 0 (No diabetes): {class_0_samples}\")\n",
    "#print(f\"Clase 1 (Diabetes): {class_1_samples}\")\n",
    "\n",
    "#Crear muestra manteniendo las proporciones originales\n",
    "stratified_data = pd.concat([\n",
    "    data[data['diabetes'] == 0].sample(n=min(class_0_samples, len(data[data['diabetes'] == 0])), random_state=42),\n",
    "    data[data['diabetes'] == 1].sample(n=min(class_1_samples, len(data[data['diabetes'] == 1])), random_state=42)\n",
    "]).sample(frac=1, random_state=42).reset_index(drop=True)\n",
    "\n",
    "#print(f\"\\nDistribución final:\")\n",
    "#print(stratified_data['diabetes'].value_counts())\n",
    "#print(f\"Proporciones finales:\")\n",
    "#print(stratified_data['diabetes'].value_counts(normalize=True))\n",
    "\n",
    "data = stratified_data"
   ]
  },
  {
   "cell_type": "code",
   "execution_count": null,
   "id": "fa241440",
   "metadata": {},
   "outputs": [],
   "source": [
    "#En esta celda se configura el preprocesamiento de datos\n",
    "preprocessor = ColumnTransformer(\n",
    "    transformers=[\n",
    "        #Primero se estandarizan las variables numéricas\n",
    "        ('num', StandardScaler(), ['age', 'bmi', 'HbA1c_level', 'blood_glucose_level','hypertension','heart_disease']),\n",
    "        #Luego se codificar las variables categóricas\n",
    "        ('cat', OneHotEncoder(), ['gender','smoking_history'])\n",
    "    ])\n",
    "\n",
    "X = data.drop('diabetes', axis=1)\n",
    "y = data['diabetes']"
   ]
  },
  {
   "cell_type": "code",
   "execution_count": null,
   "id": "553918d7",
   "metadata": {},
   "outputs": [
    {
     "name": "stdout",
     "output_type": "stream",
     "text": [
      "Conteo de clases: Counter({0: 4575, 1: 425})\n",
      "Scale pos weight calculado: 10.76470588235294\n"
     ]
    }
   ],
   "source": [
    "# Calcular pesos automáticamente para balancear clases desbalanceadas\n",
    "class_counts = Counter(y)\n",
    "#print(f\"Conteo de clases: {class_counts}\")\n",
    "\n",
    "total_samples = len(y)\n",
    "weight_for_0 = total_samples / class_counts[0] \n",
    "weight_for_1 = total_samples / class_counts[1]\n",
    "\n",
    "#En XGBoost, scale_pos_weight es el ratio que penaliza más los errores en la clase minoritaria, esto se usa porque se tienen muy pocos datos de pacientes con diabetes\n",
    "scale_pos_weight = weight_for_1 / weight_for_0\n",
    "#print(f\"Scale pos weight calculado: {scale_pos_weight}\")\n",
    "\n",
    "#Se crea el pipeline que incluye preprocesamiento y modelo con pesos balanceados\n",
    "clf = Pipeline(steps=[('preprocessor', preprocessor),\n",
    "                      ('classifier', xgb.XGBClassifier(scale_pos_weight=scale_pos_weight))])"
   ]
  },
  {
   "cell_type": "code",
   "execution_count": null,
   "id": "c89decab",
   "metadata": {},
   "outputs": [],
   "source": [
    "#Se definen los hiperparámetros para optimizar con GridSearch\n",
    "param_grid = {\n",
    "    'classifier__n_estimators': [100],\n",
    "    'classifier__max_depth': [3],\n",
    "    'classifier__learning_rate': [0.001, 0.01],\n",
    "    'classifier__subsample': [0.8],\n",
    "    'classifier__colsample_bytree': [0.8]\n",
    "}"
   ]
  },
  {
   "cell_type": "code",
   "execution_count": null,
   "id": "00902f03",
   "metadata": {},
   "outputs": [
    {
     "name": "stdout",
     "output_type": "stream",
     "text": [
      "Best Parameters:  {'classifier__colsample_bytree': 0.8, 'classifier__learning_rate': 0.001, 'classifier__max_depth': 3, 'classifier__n_estimators': 100, 'classifier__subsample': 0.8}\n"
     ]
    }
   ],
   "source": [
    "#Se configura la búsqueda de hiperparámetros usando Cross-Validation\n",
    "grid_search = GridSearchCV(clf, param_grid, cv=5)\n",
    "\n",
    "#Aquí se dividen los datos en entrenamiento y prueba\n",
    "X_train, X_test, y_train, y_test = train_test_split(X, y, test_size=0.2, random_state=42)\n",
    "\n",
    "#Y finalmente se entrena el modelo con los mejores hiperparámetros\n",
    "grid_search.fit(X_train, y_train)\n",
    "\n",
    "#print(\"Best Parameters: \", grid_search.best_params_)"
   ]
  },
  {
   "cell_type": "code",
   "execution_count": null,
   "id": "97861b72",
   "metadata": {},
   "outputs": [
    {
     "data": {
      "text/plain": [
       "['../Guardar_modelo/ML/Binary/Binary_5000_xgboost.pkl']"
      ]
     },
     "execution_count": 85,
     "metadata": {},
     "output_type": "execute_result"
    }
   ],
   "source": [
    "#Esta celda permite guardar el modelo entrenado\n",
    "model_dir = f'../Guardar_modelo/ML/Binary/'\n",
    "os.makedirs(model_dir, exist_ok=True)\n",
    "\n",
    "model_path = f'{model_dir}Binary_{total_samples}_xgboost.pkl'\n",
    "joblib.dump(grid_search.best_estimator_, model_path) "
   ]
  },
  {
   "cell_type": "code",
   "execution_count": null,
   "id": "13a490a7",
   "metadata": {},
   "outputs": [
    {
     "name": "stdout",
     "output_type": "stream",
     "text": [
      "Model Accuracy:  0.952\n",
      "              precision    recall  f1-score   support\n",
      "\n",
      "           0       0.98      0.96      0.97       915\n",
      "           1       0.68      0.82      0.74        85\n",
      "\n",
      "    accuracy                           0.95      1000\n",
      "   macro avg       0.83      0.89      0.86      1000\n",
      "weighted avg       0.96      0.95      0.95      1000\n",
      "\n"
     ]
    },
    {
     "data": {
      "image/png": "[encoded data removed]",
      "text/plain": [
       "<Figure size 800x600 with 2 Axes>"
      ]
     },
     "metadata": {},
     "output_type": "display_data"
    }
   ],
   "source": [
    "#Se hacen predicciones en el conjunto de prueba para evaluar el rendimiento del modelo\n",
    "y_pred = grid_search.predict(X_test)\n",
    "\n",
    "print(\"Model Accuracy: \", accuracy_score(y_test, y_pred))\n",
    "print(classification_report(y_test, y_pred))\n",
    "\n",
    "#Finalmente se crea y se muestra la matriz de confusión\n",
    "cm = confusion_matrix(y_test, y_pred)\n",
    "plt.figure(figsize=(8, 6))\n",
    "sns.heatmap(cm, annot=True, fmt='d', cmap='Blues')\n",
    "plt.title('Confusion Matrix')\n",
    "plt.xlabel('Predicted')\n",
    "plt.ylabel('True')\n",
    "plt.show()"
   ]
  }
 ],
 "metadata": {
  "kernelspec": {
   "display_name": "Python 3",
   "language": "python",
   "name": "python3"
  },
  "language_info": {
   "codemirror_mode": {
    "name": "ipython",
    "version": 3
   },
   "file_extension": ".py",
   "mimetype": "text/x-python",
   "name": "python",
   "nbconvert_exporter": "python",
   "pygments_lexer": "ipython3",
   "version": "3.10.0"
  }
 },
 "nbformat": 4,
 "nbformat_minor": 5
}
