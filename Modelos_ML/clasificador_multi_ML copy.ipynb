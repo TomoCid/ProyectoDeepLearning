{
 "cells": [
  {
   "cell_type": "code",
   "execution_count": 1,
   "id": "07e0aa50",
   "metadata": {},
   "outputs": [
    {
     "name": "stdout",
     "output_type": "stream",
     "text": [
      "\u001b[1m\u001b[38;5;208mVersión de las librerias utilizadas:\n",
      "\u001b[1m\u001b[38;5;208m- Version xgboost: 1.7.6\n",
      "\u001b[1m\u001b[38;5;208m- Version pandas: 2.2.3\n",
      "\u001b[1m\u001b[38;5;208m- Version numpy: 1.26.4\n",
      "\u001b[1m\u001b[38;5;208m- Version sklearn: 2.2.3\n"
     ]
    }
   ],
   "source": [
    "import pandas as pd\n",
    "import numpy as np\n",
    "import os\n",
    "\n",
    "import xgboost as xgb\n",
    "\n",
    "from sklearn.model_selection import train_test_split, GridSearchCV\n",
    "from sklearn.preprocessing import LabelEncoder\n",
    "from sklearn.metrics import accuracy_score, classification_report, confusion_matrix\n",
    "from imblearn.over_sampling import SMOTE\n",
    "from imblearn.pipeline import Pipeline as imbPipeline\n",
    "\n",
    "import seaborn as sns\n",
    "import matplotlib.pyplot as plt\n",
    "\n",
    "import joblib\n",
    "\n",
    "import warnings\n",
    "warnings.filterwarnings('ignore')\n",
    "\n",
    "color = '\\033[1m\\033[38;5;208m'\n",
    "print(f\"{color}Versión de las librerias utilizadas:\")\n",
    "print(f\"{color}- Version xgboost: {xgb.__version__}\")\n",
    "print(f\"{color}- Version pandas: {pd.__version__}\")\n",
    "print(f\"{color}- Version numpy: {np.__version__}\")\n",
    "print(f\"{color}- Version sklearn: {pd.__version__}\")\n"
   ]
  },
  {
   "cell_type": "code",
   "execution_count": 2,
   "id": "34a89d2a",
   "metadata": {},
   "outputs": [],
   "source": [
    "# Configuración\n",
    "num_sample_per_class = 1000"
   ]
  },
  {
   "cell_type": "code",
   "execution_count": 3,
   "id": "6f9396e3",
   "metadata": {},
   "outputs": [
    {
     "name": "stdout",
     "output_type": "stream",
     "text": [
      "Dataset original cargado correctamente.\n",
      "Dataset generado cargado correctamente.\n"
     ]
    }
   ],
   "source": [
    "# Cargar datasets\n",
    "try:\n",
    "    data = pd.read_csv('../Datasets/datasetMulti_original.csv')\n",
    "    print(\"Dataset original cargado correctamente.\")\n",
    "except Exception as e:\n",
    "    print(f\"Error: {e}\")\n",
    "\n",
    "try:\n",
    "    data_gen = pd.read_csv('../Datasets/datasetMulti_Gen.csv')\n",
    "    print(\"Dataset generado cargado correctamente.\")\n",
    "except Exception as e:\n",
    "    print(f\"Error: {e}\")"
   ]
  },
  {
   "cell_type": "code",
   "execution_count": 4,
   "id": "5a3c9279",
   "metadata": {},
   "outputs": [
    {
     "name": "stdout",
     "output_type": "stream",
     "text": [
      "Preprocesamiento dataset original listo.\n"
     ]
    }
   ],
   "source": [
    "\n",
    "# Preprocesar dataset original\n",
    "columns_to_drop = ['ID', 'No_Pation']\n",
    "existing_columns = [col for col in columns_to_drop if col in data.columns]\n",
    "if existing_columns:\n",
    "    data = data.drop(columns=['ID', 'No_Pation'])\n",
    "\n",
    "data['CLASS'] = data['CLASS'].astype(str).str.strip()\n",
    "data['Gender'] = data['Gender'].astype(str).str.strip().str.upper()\n",
    "\n",
    "class_mapping = {'N': 0, 'P': 1, 'Y': 2}\n",
    "data['CLASS'] = data['CLASS'].map(class_mapping)\n",
    "\n",
    "data = pd.get_dummies(data, columns=['Gender'], drop_first=True)\n",
    "data.dropna(inplace=True)\n",
    "data.columns = data.columns.str.replace('[^A-Za-z0-9_]+', '', regex=True)\n",
    "\n",
    "print(\"Preprocesamiento dataset original listo.\")\n",
    "data_sample = data"
   ]
  },
  {
   "cell_type": "code",
   "execution_count": 5,
   "id": "bb2741b8",
   "metadata": {},
   "outputs": [
    {
     "name": "stdout",
     "output_type": "stream",
     "text": [
      "Preprocesamiento dataset generado listo.\n"
     ]
    }
   ],
   "source": [
    "# Preprocesar dataset generado\n",
    "columns_to_drop = ['ID', 'No_Pation']\n",
    "existing_columns = [col for col in columns_to_drop if col in data_gen.columns]\n",
    "if existing_columns:\n",
    "    data_gen = data_gen.drop(columns=['ID', 'No_Pation'])\n",
    "\n",
    "data_gen['CLASS'] = data_gen['CLASS'].astype(str).str.strip()\n",
    "data_gen['Gender'] = data_gen['Gender'].astype(str).str.strip().str.upper()\n",
    "\n",
    "class_mapping = {'N': 0, 'P': 1, 'Y': 2}\n",
    "data_gen['CLASS'] = data_gen['CLASS'].map(class_mapping)\n",
    "\n",
    "data_gen = pd.get_dummies(data_gen, columns=['Gender'], drop_first=True)\n",
    "data_gen.dropna(inplace=True)\n",
    "data_gen.columns = data_gen.columns.str.replace('[^A-Za-z0-9_]+', '', regex=True)\n",
    "\n",
    "print(\"Preprocesamiento dataset generado listo.\")\n",
    "data_gen_sample = data_gen\n"
   ]
  },
  {
   "cell_type": "code",
   "execution_count": 6,
   "id": "358b3e70",
   "metadata": {},
   "outputs": [
    {
     "name": "stdout",
     "output_type": "stream",
     "text": [
      "<class 'pandas.core.frame.DataFrame'>\n",
      "RangeIndex: 1000 entries, 0 to 999\n",
      "Data columns (total 12 columns):\n",
      " #   Column    Non-Null Count  Dtype  \n",
      "---  ------    --------------  -----  \n",
      " 0   AGE       1000 non-null   int64  \n",
      " 1   Urea      1000 non-null   float64\n",
      " 2   Cr        1000 non-null   int64  \n",
      " 3   HbA1c     1000 non-null   float64\n",
      " 4   Chol      1000 non-null   float64\n",
      " 5   TG        1000 non-null   float64\n",
      " 6   HDL       1000 non-null   float64\n",
      " 7   LDL       1000 non-null   float64\n",
      " 8   VLDL      1000 non-null   float64\n",
      " 9   BMI       1000 non-null   float64\n",
      " 10  CLASS     1000 non-null   int64  \n",
      " 11  Gender_M  1000 non-null   bool   \n",
      "dtypes: bool(1), float64(8), int64(3)\n",
      "memory usage: 87.0 KB\n",
      "<class 'pandas.core.frame.DataFrame'>\n",
      "RangeIndex: 150000 entries, 0 to 149999\n",
      "Data columns (total 12 columns):\n",
      " #   Column    Non-Null Count   Dtype  \n",
      "---  ------    --------------   -----  \n",
      " 0   AGE       150000 non-null  int64  \n",
      " 1   Urea      150000 non-null  float64\n",
      " 2   Cr        150000 non-null  int64  \n",
      " 3   HbA1c     150000 non-null  float64\n",
      " 4   Chol      150000 non-null  float64\n",
      " 5   TG        150000 non-null  float64\n",
      " 6   HDL       150000 non-null  float64\n",
      " 7   LDL       150000 non-null  float64\n",
      " 8   VLDL      150000 non-null  float64\n",
      " 9   BMI       150000 non-null  float64\n",
      " 10  CLASS     150000 non-null  int64  \n",
      " 11  Gender_M  150000 non-null  bool   \n",
      "dtypes: bool(1), float64(8), int64(3)\n",
      "memory usage: 12.7 MB\n"
     ]
    }
   ],
   "source": [
    "data.info()\n",
    "data_gen.info()"
   ]
  },
  {
   "cell_type": "code",
   "execution_count": 7,
   "id": "69929efc",
   "metadata": {},
   "outputs": [],
   "source": [
    "# Completar datos faltantes (igual que en MLP)\n",
    "data_count = data['CLASS'].value_counts()\n",
    "if ((0 in data_count) and (data_count[0] < num_sample_per_class)):\n",
    "    class_0 = data_gen[data_gen['CLASS'] == 0].sample(n=num_sample_per_class-data_count[0], random_state=42)\n",
    "if ((1 in data_count) and (data_count[1] < num_sample_per_class)):\n",
    "    class_1 = data_gen[data_gen['CLASS'] == 1].sample(n=num_sample_per_class-data_count[1], random_state=42)\n",
    "if ((2 in data_count) and (data_count[2] < num_sample_per_class)):\n",
    "    class_2 = data_gen[data_gen['CLASS'] == 2].sample(n=num_sample_per_class-data_count[2], random_state=42)\n"
   ]
  },
  {
   "cell_type": "code",
   "execution_count": 8,
   "id": "a3397ddd",
   "metadata": {},
   "outputs": [
    {
     "name": "stdout",
     "output_type": "stream",
     "text": [
      "--- Distribución de clases completadas ---\n",
      "CLASS\n",
      "1    947\n",
      "0    897\n",
      "2    156\n",
      "Name: count, dtype: int64\n"
     ]
    }
   ],
   "source": [
    "balanced_train_data_gen = pd.concat([class_0, class_1, class_2]).sample(frac=1, random_state=42).reset_index(drop=True)\n",
    "print(\"--- Distribución de clases completadas ---\")\n",
    "print(balanced_train_data_gen['CLASS'].value_counts())\n",
    "data_gen_sample = balanced_train_data_gen"
   ]
  },
  {
   "cell_type": "code",
   "execution_count": 9,
   "id": "e2b91d18",
   "metadata": {},
   "outputs": [],
   "source": [
    "# Separar características y objetivos (igual que MLP)\n",
    "x = data_sample.drop(columns=[\"CLASS\"]).to_numpy()\n",
    "y = data_sample[\"CLASS\"].to_numpy()\n",
    "\n",
    "X_train, X_test, y_train, y_test = train_test_split(x, y, test_size=0.20, random_state=42, stratify=y)\n",
    "X_train, X_val, y_train, y_val = train_test_split(X_train, y_train, test_size=0.15, random_state=42, stratify=y_train)\n",
    "\n",
    "x_gen = data_gen_sample.drop(columns=[\"CLASS\"]).to_numpy()\n",
    "y_gen = data_gen_sample[\"CLASS\"].to_numpy()\n",
    "\n",
    "X_gen_train, X_gen_test, y_gen_train, y_gen_test = train_test_split(x_gen, y_gen, test_size=0.20, random_state=42, stratify=y_gen)\n",
    "X_gen_train, X_gen_val, y_gen_train, y_gen_val = train_test_split(X_gen_train, y_gen_train, test_size=0.15, random_state=42, stratify=y_gen_train)\n"
   ]
  },
  {
   "cell_type": "code",
   "execution_count": 10,
   "id": "b421a64c",
   "metadata": {},
   "outputs": [
    {
     "name": "stdout",
     "output_type": "stream",
     "text": [
      "Datos finales - Train: 2040, Test: 600\n"
     ]
    }
   ],
   "source": [
    "\n",
    "# Combinar datos (igual que MLP)\n",
    "X_train_orig_pd = pd.DataFrame(X_train)\n",
    "y_train_orig_pd = pd.Series(y_train)\n",
    "X_test_orig_pd = pd.DataFrame(X_test)\n",
    "y_test_orig_pd = pd.Series(y_test)\n",
    "\n",
    "X_gen_train_pd = pd.DataFrame(X_gen_train)\n",
    "y_gen_train_pd = pd.Series(y_gen_train)\n",
    "X_gen_test_pd = pd.DataFrame(X_gen_test)\n",
    "y_gen_test_pd = pd.Series(y_gen_test)\n",
    "\n",
    "X_train = (pd.concat([X_gen_train_pd, X_train_orig_pd]).sample(frac=1, random_state=42).reset_index(drop=True)).to_numpy()\n",
    "y_train = (pd.concat([y_gen_train_pd, y_train_orig_pd]).sample(frac=1, random_state=42).reset_index(drop=True)).to_numpy()\n",
    "\n",
    "X_test = (pd.concat([X_gen_test_pd, X_test_orig_pd]).sample(frac=1, random_state=42).reset_index(drop=True)).to_numpy()\n",
    "y_test = (pd.concat([y_gen_test_pd, y_test_orig_pd]).sample(frac=1, random_state=42).reset_index(drop=True)).to_numpy()\n",
    "\n",
    "print(f\"Datos finales - Train: {len(X_train)}, Test: {len(X_test)}\")\n"
   ]
  },
  {
   "cell_type": "code",
   "execution_count": 11,
   "id": "5f5aa4c6",
   "metadata": {},
   "outputs": [],
   "source": [
    "clf = xgb.XGBClassifier()"
   ]
  },
  {
   "cell_type": "code",
   "execution_count": 12,
   "id": "500cb668",
   "metadata": {},
   "outputs": [],
   "source": [
    "param_grid = {\n",
    "    'n_estimators': [100],\n",
    "    'max_depth': [3],    \n",
    "    'learning_rate': [0.001, 0.01],  \n",
    "    'subsample': [0.8],     \n",
    "    'colsample_bytree': [0.8]\n",
    "}"
   ]
  },
  {
   "cell_type": "code",
   "execution_count": 13,
   "id": "4c1ad49c",
   "metadata": {},
   "outputs": [
    {
     "name": "stdout",
     "output_type": "stream",
     "text": [
      "Best Parameters: {'colsample_bytree': 0.8, 'learning_rate': 0.01, 'max_depth': 3, 'n_estimators': 100, 'subsample': 0.8}\n"
     ]
    }
   ],
   "source": [
    "grid_search = GridSearchCV(clf, param_grid, cv=5)\n",
    "grid_search.fit(X_train, y_train)\n",
    "best_model = grid_search.best_estimator_\n",
    "print(\"Best Parameters:\", grid_search.best_params_)\n"
   ]
  },
  {
   "cell_type": "code",
   "execution_count": 20,
   "id": "b0e293d6",
   "metadata": {},
   "outputs": [],
   "source": [
    "directorio = os.getcwd()\n",
    "carpeta = \"../Guardar_modelo/ML\"\n",
    "archivo_xgb = f'Multi_ML_{num_sample_per_class}.xgb'\n",
    "\n",
    "ruta = os.path.join(directorio, carpeta, archivo_xgb)\n",
    "\n",
    "directorio_final_para_guardar = os.path.dirname(ruta)\n",
    "os.makedirs(directorio_final_para_guardar, exist_ok=True)\n",
    "\n",
    "best_model.save_model(ruta)"
   ]
  },
  {
   "cell_type": "code",
   "execution_count": 21,
   "id": "a6426121",
   "metadata": {},
   "outputs": [],
   "source": [
    "y_pred = grid_search.predict(X_test)"
   ]
  },
  {
   "cell_type": "code",
   "execution_count": 22,
   "id": "9ed6bb42",
   "metadata": {},
   "outputs": [
    {
     "name": "stdout",
     "output_type": "stream",
     "text": [
      "Model Accuracy: 0.9966666666666667\n",
      "              precision    recall  f1-score   support\n",
      "\n",
      "           N       1.00      1.00      1.00       200\n",
      "           P       1.00      0.99      1.00       200\n",
      "           Y       0.99      0.99      0.99       200\n",
      "\n",
      "    accuracy                           1.00       600\n",
      "   macro avg       1.00      1.00      1.00       600\n",
      "weighted avg       1.00      1.00      1.00       600\n",
      "\n"
     ]
    },
    {
     "data": {
      "image/png": "[encoded data removed]",
      "text/plain": [
       "<Figure size 800x600 with 2 Axes>"
      ]
     },
     "metadata": {},
     "output_type": "display_data"
    }
   ],
   "source": [
    "print('Model Accuracy:', accuracy_score(y_test, y_pred))\n",
    "print(classification_report(y_test, y_pred, target_names=['N', 'P', 'Y']))\n",
    "\n",
    "# Matriz de Confusión\n",
    "cm = confusion_matrix(y_test, y_pred)\n",
    "class_names = ['N', 'P', 'Y']\n",
    "plt.figure(figsize=(8, 6))\n",
    "sns.heatmap(cm, annot=True, fmt='d', cmap='Blues', xticklabels=class_names, yticklabels=class_names)\n",
    "plt.xlabel('Predicción')\n",
    "plt.ylabel('Valor Real')\n",
    "plt.title('Matriz de Confusión - XGBoost')\n",
    "plt.show()"
   ]
  }
 ],
 "metadata": {
  "kernelspec": {
   "display_name": "Python 3",
   "language": "python",
   "name": "python3"
  },
  "language_info": {
   "codemirror_mode": {
    "name": "ipython",
    "version": 3
   },
   "file_extension": ".py",
   "mimetype": "text/x-python",
   "name": "python",
   "nbconvert_exporter": "python",
   "pygments_lexer": "ipython3",
   "version": "3.10.0"
  }
 },
 "nbformat": 4,
 "nbformat_minor": 5
}
